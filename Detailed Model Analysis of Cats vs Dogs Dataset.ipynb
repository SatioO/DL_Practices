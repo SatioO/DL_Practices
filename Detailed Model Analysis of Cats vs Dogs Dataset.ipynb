{
 "cells": [
  {
   "cell_type": "code",
   "execution_count": 1,
   "metadata": {},
   "outputs": [],
   "source": [
    "import tensorflow as tf\n",
    "import os\n",
    "import random\n",
    "import shutil\n",
    "\n",
    "tf.random.set_seed(1)\n",
    "random.seed(1)"
   ]
  },
  {
   "cell_type": "code",
   "execution_count": 2,
   "metadata": {},
   "outputs": [],
   "source": [
    "PATH ='./data/dogs-vs-cats/'\n",
    "\n",
    "train_dir = os.path.join(PATH, 'train')\n",
    "valid_dir = os.path.join(PATH, 'validation')\n",
    "test_dir = os.path.join(PATH, 'test')"
   ]
  },
  {
   "cell_type": "code",
   "execution_count": 3,
   "metadata": {},
   "outputs": [],
   "source": [
    "train_len = len(os.listdir(train_dir))\n",
    "valid_len = len(os.listdir(valid_dir))\n",
    "test_len = len(os.listdir(test_dir))"
   ]
  },
  {
   "cell_type": "code",
   "execution_count": 4,
   "metadata": {},
   "outputs": [
    {
     "name": "stdout",
     "output_type": "stream",
     "text": [
      "total training images: 20000\n",
      "total validation images: 5000\n",
      "total testing images: 12500\n"
     ]
    }
   ],
   "source": [
    "print('total training images:', train_len)\n",
    "print('total validation images:', valid_len)\n",
    "print('total testing images:', test_len)"
   ]
  },
  {
   "cell_type": "code",
   "execution_count": 5,
   "metadata": {},
   "outputs": [],
   "source": [
    "# def create_validation_sets():\n",
    "#     shutil.rmtree(valid_dir)\n",
    "#     os.mkdir(valid_dir)\n",
    "#     shutil.rmtree(train_dir)\n",
    "#     os.mkdir(train_dir)\n",
    "    \n",
    "#     valid_images = random.sample(os.listdir(original_dir), int(train_len * 0.20))\n",
    "    \n",
    "#     for image in valid_images:\n",
    "#         shutil.move(os.path.join(original_dir, image), valid_dir)\n",
    "\n",
    "# create_validation_sets()"
   ]
  },
  {
   "cell_type": "code",
   "execution_count": 6,
   "metadata": {},
   "outputs": [],
   "source": [
    "CLASS_NAMES = [\"cat\", \"dog\"]\n",
    "IMG_HEIGHT = 128\n",
    "IMG_WIDTH = 128"
   ]
  },
  {
   "cell_type": "code",
   "execution_count": 7,
   "metadata": {},
   "outputs": [],
   "source": [
    "def process_label(path):\n",
    "    label = tf.strings.split(path, os.path.sep)[-1]\n",
    "    label = tf.strings.split(label, \".\")[0]\n",
    "    return tf.cast(label == CLASS_NAMES, tf.float32)\n",
    "\n",
    "def process_image(path):\n",
    "    image = tf.io.read_file(path)\n",
    "    image = tf.io.decode_jpeg(image, channels=3)\n",
    "    image = tf.image.convert_image_dtype(image, tf.float32)\n",
    "    return tf.image.resize(image, [IMG_WIDTH, IMG_HEIGHT])\n",
    "\n",
    "def scale_image(image):\n",
    "    image = tf.image.per_image_standardization(image)\n",
    "    return image\n",
    "\n",
    "def process_data(path):\n",
    "    image = process_image(path)\n",
    "    image = scale_image(image)\n",
    "    label = process_label(path)\n",
    "    \n",
    "    return image, label\n",
    "\n",
    "def input_fn(path):\n",
    "    list_ds = tf.data.Dataset.list_files(str(path))\n",
    "    return list_ds.map(process_data)"
   ]
  },
  {
   "cell_type": "code",
   "execution_count": 8,
   "metadata": {},
   "outputs": [
    {
     "name": "stderr",
     "output_type": "stream",
     "text": [
      "WARNING: Logging before flag parsing goes to stderr.\n",
      "W0424 13:29:54.529505 140736099853184 deprecation.py:323] From /usr/local/lib/python3.7/site-packages/tensorflow_core/python/ops/image_ops_impl.py:1518: div (from tensorflow.python.ops.math_ops) is deprecated and will be removed in a future version.\n",
      "Instructions for updating:\n",
      "Deprecated in favor of operator or tf.math.divide.\n"
     ]
    }
   ],
   "source": [
    "train_ds = input_fn(os.path.join(train_dir, \"*\"))\n",
    "valid_ds = input_fn(os.path.join(valid_dir, \"*\"))\n",
    "test_ds = input_fn(os.path.join(test_dir, \"*\"))"
   ]
  },
  {
   "cell_type": "code",
   "execution_count": 9,
   "metadata": {},
   "outputs": [
    {
     "name": "stdout",
     "output_type": "stream",
     "text": [
      "(2,)\n",
      "(2,)\n",
      "(2,)\n",
      "(2,)\n",
      "(2,)\n"
     ]
    }
   ],
   "source": [
    "for (trainX, trainY) in train_ds.take(5):\n",
    "    print(trainY.shape)"
   ]
  },
  {
   "cell_type": "code",
   "execution_count": null,
   "metadata": {},
   "outputs": [],
   "source": []
  }
 ],
 "metadata": {
  "kernelspec": {
   "display_name": "Python 3",
   "language": "python",
   "name": "python3"
  },
  "language_info": {
   "codemirror_mode": {
    "name": "ipython",
    "version": 3
   },
   "file_extension": ".py",
   "mimetype": "text/x-python",
   "name": "python",
   "nbconvert_exporter": "python",
   "pygments_lexer": "ipython3",
   "version": "3.7.7"
  }
 },
 "nbformat": 4,
 "nbformat_minor": 2
}
