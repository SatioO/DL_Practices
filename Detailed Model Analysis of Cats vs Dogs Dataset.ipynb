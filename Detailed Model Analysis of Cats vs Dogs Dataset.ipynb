{
 "cells": [
  {
   "cell_type": "code",
   "execution_count": 36,
   "metadata": {},
   "outputs": [],
   "source": [
    "import tensorflow as tf\n",
    "import os\n",
    "import random\n",
    "import shutil\n",
    "import matplotlib.pyplot as plt\n",
    "import numpy as np\n",
    "\n",
    "tf.random.set_seed(1)\n",
    "random.seed(1)"
   ]
  },
  {
   "cell_type": "code",
   "execution_count": 2,
   "metadata": {},
   "outputs": [],
   "source": [
    "PATH ='./data/dogs-vs-cats/'\n",
    "\n",
    "train_dir = os.path.join(PATH, 'train')\n",
    "valid_dir = os.path.join(PATH, 'validation')\n",
    "test_dir = os.path.join(PATH, 'test')"
   ]
  },
  {
   "cell_type": "code",
   "execution_count": 3,
   "metadata": {},
   "outputs": [],
   "source": [
    "train_len = len(os.listdir(train_dir))\n",
    "valid_len = len(os.listdir(valid_dir))\n",
    "test_len = len(os.listdir(test_dir))"
   ]
  },
  {
   "cell_type": "code",
   "execution_count": 4,
   "metadata": {},
   "outputs": [
    {
     "name": "stdout",
     "output_type": "stream",
     "text": [
      "total training images: 20000\n",
      "total validation images: 5000\n",
      "total testing images: 12500\n"
     ]
    }
   ],
   "source": [
    "print('total training images:', train_len)\n",
    "print('total validation images:', valid_len)\n",
    "print('total testing images:', test_len)"
   ]
  },
  {
   "cell_type": "code",
   "execution_count": 5,
   "metadata": {},
   "outputs": [],
   "source": [
    "CLASS_NAMES = [\"cat\", \"dog\"]\n",
    "\n",
    "EPOCH_SIZE = 5\n",
    "BATCH_SIZE = 32\n",
    "BUFFER_SIZE= BATCH_SIZE * 5\n",
    "STEPS_PER_EPOCH = train_len//BATCH_SIZE\n",
    "VALIDATION_STEPS = valid_len//BATCH_SIZE\n",
    "IMG_HEIGHT = 128\n",
    "IMG_WIDTH = 128"
   ]
  },
  {
   "cell_type": "code",
   "execution_count": 6,
   "metadata": {},
   "outputs": [],
   "source": [
    "def process_label(path):\n",
    "    label = tf.strings.split(path, os.path.sep)[-1]\n",
    "    label = tf.strings.split(label, \".\")[0]\n",
    "    return tf.cast(label == CLASS_NAMES, tf.float32)\n",
    "\n",
    "def process_image(path):\n",
    "    image = tf.io.read_file(path)\n",
    "    image = tf.io.decode_jpeg(image, channels=3)\n",
    "    image = tf.image.convert_image_dtype(image, tf.float32)\n",
    "    return tf.image.resize(image, [IMG_WIDTH, IMG_HEIGHT])\n",
    "\n",
    "def scale_image(image):\n",
    "    image = tf.image.per_image_standardization(image)\n",
    "    return image\n",
    "\n",
    "def process_data(path):\n",
    "    image = process_image(path)\n",
    "    image = scale_image(image)\n",
    "    label = process_label(path)\n",
    "    \n",
    "    return image, label\n",
    "\n",
    "def input_fn(path):\n",
    "    list_ds = tf.data.Dataset.list_files(str(path))\n",
    "    return list_ds \\\n",
    "        .map(process_data) \\\n",
    "        .shuffle(BUFFER_SIZE) \\\n",
    "        .batch(BATCH_SIZE) \\\n",
    "        .prefetch(buffer_size=tf.data.experimental.AUTOTUNE) \\\n",
    "        .repeat(EPOCH_SIZE)"
   ]
  },
  {
   "cell_type": "code",
   "execution_count": 7,
   "metadata": {},
   "outputs": [
    {
     "name": "stderr",
     "output_type": "stream",
     "text": [
      "WARNING: Logging before flag parsing goes to stderr.\n",
      "W0424 20:51:58.504430 140736099853184 deprecation.py:323] From /usr/local/lib/python3.7/site-packages/tensorflow_core/python/ops/image_ops_impl.py:1518: div (from tensorflow.python.ops.math_ops) is deprecated and will be removed in a future version.\n",
      "Instructions for updating:\n",
      "Deprecated in favor of operator or tf.math.divide.\n"
     ]
    }
   ],
   "source": [
    "train_ds = input_fn(os.path.join(train_dir, \"*.jpg\")).take(5000)\n",
    "valid_ds = input_fn(os.path.join(valid_dir, \"*.jpg\")).take(2000)"
   ]
  },
  {
   "cell_type": "code",
   "execution_count": 8,
   "metadata": {},
   "outputs": [],
   "source": [
    "def model_fn():\n",
    "    model = tf.keras.Sequential([\n",
    "        tf.keras.layers.Conv2D(filters=32, kernel_size=(5,5), padding='same', activation='relu', input_shape=(IMG_HEIGHT, IMG_WIDTH, 3)),\n",
    "        tf.keras.layers.MaxPool2D(strides=2),\n",
    "        tf.keras.layers.Conv2D(filters=48, kernel_size=(5,5), padding='valid', activation='relu'),\n",
    "        tf.keras.layers.MaxPool2D(strides=2),\n",
    "        tf.keras.layers.Flatten(),\n",
    "        tf.keras.layers.Dense(256, activation='relu'),\n",
    "        tf.keras.layers.Dense(84, activation='relu'),\n",
    "        tf.keras.layers.Dense(2, activation='softmax')\n",
    "    ])\n",
    "\n",
    "    model.compile(optimizer=tf.optimizers.Adam(lr=5e-4),\n",
    "                  loss=tf.losses.CategoricalCrossentropy(), \n",
    "                  metrics=[\"accuracy\"])\n",
    "    \n",
    "    return model"
   ]
  },
  {
   "cell_type": "code",
   "execution_count": 9,
   "metadata": {},
   "outputs": [
    {
     "name": "stdout",
     "output_type": "stream",
     "text": [
      "Model: \"sequential\"\n",
      "_________________________________________________________________\n",
      "Layer (type)                 Output Shape              Param #   \n",
      "=================================================================\n",
      "conv2d (Conv2D)              (None, 128, 128, 32)      2432      \n",
      "_________________________________________________________________\n",
      "max_pooling2d (MaxPooling2D) (None, 64, 64, 32)        0         \n",
      "_________________________________________________________________\n",
      "conv2d_1 (Conv2D)            (None, 60, 60, 48)        38448     \n",
      "_________________________________________________________________\n",
      "max_pooling2d_1 (MaxPooling2 (None, 30, 30, 48)        0         \n",
      "_________________________________________________________________\n",
      "flatten (Flatten)            (None, 43200)             0         \n",
      "_________________________________________________________________\n",
      "dense (Dense)                (None, 256)               11059456  \n",
      "_________________________________________________________________\n",
      "dense_1 (Dense)              (None, 84)                21588     \n",
      "_________________________________________________________________\n",
      "dense_2 (Dense)              (None, 2)                 170       \n",
      "=================================================================\n",
      "Total params: 11,122,094\n",
      "Trainable params: 11,122,094\n",
      "Non-trainable params: 0\n",
      "_________________________________________________________________\n"
     ]
    }
   ],
   "source": [
    "model = model_fn()\n",
    "model.summary()"
   ]
  },
  {
   "cell_type": "code",
   "execution_count": 10,
   "metadata": {},
   "outputs": [
    {
     "name": "stdout",
     "output_type": "stream",
     "text": [
      "Train for 156 steps, validate for 62 steps\n",
      "Epoch 1/5\n",
      "156/156 [==============================] - 86s 551ms/step - loss: 0.6915 - accuracy: 0.5903 - val_loss: 0.6248 - val_accuracy: 0.6356\n",
      "Epoch 2/5\n",
      "156/156 [==============================] - 85s 548ms/step - loss: 0.6059 - accuracy: 0.6599 - val_loss: 0.5953 - val_accuracy: 0.6472\n",
      "Epoch 3/5\n",
      "156/156 [==============================] - 87s 558ms/step - loss: 0.5705 - accuracy: 0.7021 - val_loss: 0.5442 - val_accuracy: 0.7314\n",
      "Epoch 4/5\n",
      "156/156 [==============================] - 91s 580ms/step - loss: 0.5189 - accuracy: 0.7410 - val_loss: 0.5114 - val_accuracy: 0.7389\n",
      "Epoch 5/5\n",
      "156/156 [==============================] - 105s 675ms/step - loss: 0.4570 - accuracy: 0.7786 - val_loss: 0.6269 - val_accuracy: 0.7041\n"
     ]
    }
   ],
   "source": [
    "history = model.fit(train_ds,\n",
    "                    validation_data=valid_ds,\n",
    "                    validation_steps=int(2000 / BATCH_SIZE),\n",
    "                    epochs = EPOCH_SIZE, \n",
    "                    steps_per_epoch = int(5000 / BATCH_SIZE), \n",
    "                    use_multiprocessing=True, \n",
    "                    workers=7)"
   ]
  },
  {
   "cell_type": "code",
   "execution_count": 48,
   "metadata": {},
   "outputs": [
    {
     "name": "stdout",
     "output_type": "stream",
     "text": [
      "['9733.jpg', '63.jpg', '6400.jpg', '823.jpg', '4217.jpg']\n"
     ]
    }
   ],
   "source": [
    "print(os.listdir(test_dir)[:5])\n",
    "test_img1 = next(iter(process_data(os.path.join(test_dir, os.listdir(test_dir)[0]))))"
   ]
  },
  {
   "cell_type": "code",
   "execution_count": 49,
   "metadata": {},
   "outputs": [
    {
     "name": "stderr",
     "output_type": "stream",
     "text": [
      "W0424 21:10:47.587990 140736099853184 image.py:648] Clipping input data to the valid range for imshow with RGB data ([0..1] for floats or [0..255] for integers).\n"
     ]
    },
    {
     "data": {
      "text/plain": [
       "<matplotlib.image.AxesImage at 0x14edefd10>"
      ]
     },
     "execution_count": 49,
     "metadata": {},
     "output_type": "execute_result"
    },
    {
     "data": {
      "image/png": "[encoded data removed]",
      "text/plain": [
       "<Figure size 432x288 with 1 Axes>"
      ]
     },
     "metadata": {
      "needs_background": "light"
     },
     "output_type": "display_data"
    }
   ],
   "source": [
    "fig = plt.figure()\n",
    "plt.title('Original image')\n",
    "plt.imshow(test_img1)"
   ]
  },
  {
   "cell_type": "code",
   "execution_count": 50,
   "metadata": {},
   "outputs": [],
   "source": [
    "x= np.expand_dims(test_img1, axis=0)"
   ]
  },
  {
   "cell_type": "code",
   "execution_count": 51,
   "metadata": {},
   "outputs": [],
   "source": [
    "classes = model.predict(x)"
   ]
  },
  {
   "cell_type": "code",
   "execution_count": 52,
   "metadata": {},
   "outputs": [
    {
     "data": {
      "text/plain": [
       "0"
      ]
     },
     "execution_count": 52,
     "metadata": {},
     "output_type": "execute_result"
    }
   ],
   "source": [
    "np.argmax(classes)"
   ]
  },
  {
   "cell_type": "code",
   "execution_count": null,
   "metadata": {},
   "outputs": [],
   "source": []
  }
 ],
 "metadata": {
  "kernelspec": {
   "display_name": "Python 3",
   "language": "python",
   "name": "python3"
  },
  "language_info": {
   "codemirror_mode": {
    "name": "ipython",
    "version": 3
   },
   "file_extension": ".py",
   "mimetype": "text/x-python",
   "name": "python",
   "nbconvert_exporter": "python",
   "pygments_lexer": "ipython3",
   "version": "3.7.7"
  }
 },
 "nbformat": 4,
 "nbformat_minor": 2
}
