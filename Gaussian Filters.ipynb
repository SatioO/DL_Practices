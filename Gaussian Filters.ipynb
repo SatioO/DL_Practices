{
 "cells": [
  {
   "cell_type": "code",
   "execution_count": 1,
   "metadata": {},
   "outputs": [],
   "source": [
    "import math\n",
    "import scipy.ndimage as ndi\n",
    "import numpy as np\n",
    "from PIL import Image\n",
    "import matplotlib.pyplot as plt"
   ]
  },
  {
   "cell_type": "code",
   "execution_count": 2,
   "metadata": {},
   "outputs": [],
   "source": [
    "img = Image.open(\"./data/dogs-vs-cats/train/cat.10179.jpg\").convert('L')"
   ]
  },
  {
   "cell_type": "code",
   "execution_count": 15,
   "metadata": {},
   "outputs": [
    {
     "data": {
      "image/png": "[encoded data removed]",
      "text/plain": [
       "<Figure size 432x288 with 1 Axes>"
      ]
     },
     "metadata": {
      "needs_background": "light"
     },
     "output_type": "display_data"
    },
    {
     "data": {
      "text/plain": [
       "array([[0.9401382 , 0.95181678, 0.96067083, 0.96661924, 0.96960724,\n",
       "        0.96960724, 0.96661924, 0.96067083, 0.95181678, 0.9401382 ],\n",
       "       [0.95181678, 0.96364044, 0.97260448, 0.97862678, 0.9816519 ,\n",
       "        0.9816519 , 0.97862678, 0.97260448, 0.96364044, 0.95181678],\n",
       "       [0.96067083, 0.97260448, 0.9816519 , 0.98773022, 0.99078348,\n",
       "        0.99078348, 0.98773022, 0.9816519 , 0.97260448, 0.96067083],\n",
       "       [0.96661924, 0.97862678, 0.98773022, 0.99384617, 0.99691834,\n",
       "        0.99691834, 0.99384617, 0.98773022, 0.97862678, 0.96661924],\n",
       "       [0.96960724, 0.9816519 , 0.99078348, 0.99691834, 1.        ,\n",
       "        1.        , 0.99691834, 0.99078348, 0.9816519 , 0.96960724],\n",
       "       [0.96960724, 0.9816519 , 0.99078348, 0.99691834, 1.        ,\n",
       "        1.        , 0.99691834, 0.99078348, 0.9816519 , 0.96960724],\n",
       "       [0.96661924, 0.97862678, 0.98773022, 0.99384617, 0.99691834,\n",
       "        0.99691834, 0.99384617, 0.98773022, 0.97862678, 0.96661924],\n",
       "       [0.96067083, 0.97260448, 0.9816519 , 0.98773022, 0.99078348,\n",
       "        0.99078348, 0.98773022, 0.9816519 , 0.97260448, 0.96067083],\n",
       "       [0.95181678, 0.96364044, 0.97260448, 0.97862678, 0.9816519 ,\n",
       "        0.9816519 , 0.97862678, 0.97260448, 0.96364044, 0.95181678],\n",
       "       [0.9401382 , 0.95181678, 0.96067083, 0.96661924, 0.96960724,\n",
       "        0.96960724, 0.96661924, 0.96067083, 0.95181678, 0.9401382 ]])"
      ]
     },
     "execution_count": 15,
     "metadata": {},
     "output_type": "execute_result"
    }
   ],
   "source": [
    "def dnorm(x, mu, sd):\n",
    "    return 1 / (np.sqrt(2 * np.pi) * sd) * np.e ** (-np.power((x - mu) / sd, 2) / 2)\n",
    "\n",
    "def gaussian_kernel(size, sigma=1, verbose=False):\n",
    "    kernel_1D = np.linspace(-(size // 2), (size // 2), size)\n",
    "    for i in range(size):\n",
    "        kernel_1D[i] = dnorm(kernel_1D[i], 0, sigma)\n",
    "    \n",
    "    kernel_2D = np.outer(kernel_1D.T, kernel_1D.T)\n",
    "    kernel_2D *= 1.0 / kernel_2D.max()\n",
    "    \n",
    "    if verbose:\n",
    "        plt.imshow(kernel_2D, interpolation='none', cmap='gray')\n",
    "        plt.title(\"Kernel ( {}X{} )\".format(size, size))\n",
    "        plt.show()\n",
    "\n",
    "    return kernel_2D\n",
    "\n",
    "    \n",
    "def gaussian_blur(img, kernel_size, verbose=False):\n",
    "    kernel = gaussian_kernel(kernel_size, sigma=20, verbose=verbose)\n",
    "    return kernel\n",
    "\n",
    "gaussian_blur(img, 10, verbose=True)"
   ]
  },
  {
   "cell_type": "code",
   "execution_count": null,
   "metadata": {},
   "outputs": [],
   "source": []
  }
 ],
 "metadata": {
  "kernelspec": {
   "display_name": "Python 3",
   "language": "python",
   "name": "python3"
  },
  "language_info": {
   "codemirror_mode": {
    "name": "ipython",
    "version": 3
   },
   "file_extension": ".py",
   "mimetype": "text/x-python",
   "name": "python",
   "nbconvert_exporter": "python",
   "pygments_lexer": "ipython3",
   "version": "3.7.7"
  }
 },
 "nbformat": 4,
 "nbformat_minor": 2
}
