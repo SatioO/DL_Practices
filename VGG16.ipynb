{
  "nbformat": 4,
  "nbformat_minor": 0,
  "metadata": {
    "colab": {
      "name": "VGG16.ipynb",
      "provenance": [],
      "authorship_tag": "ABX9TyMboQVqNskd7rRbFWCKFch8",
      "include_colab_link": true
    },
    "kernelspec": {
      "name": "python3",
      "display_name": "Python 3"
    },
    "accelerator": "GPU"
  },
  "cells": [
    {
      "cell_type": "markdown",
      "metadata": {
        "id": "view-in-github",
        "colab_type": "text"
      },
      "source": [
        "<a href=\"https://colab.research.google.com/github/SatioO/DL_Practices/blob/master/VGG16.ipynb\" target=\"_parent\"><img src=\"https://colab.research.google.com/assets/colab-badge.svg\" alt=\"Open In Colab\"/></a>"
      ]
    },
    {
      "cell_type": "code",
      "metadata": {
        "id": "ql0sSE3JXP_3",
        "colab_type": "code",
        "colab": {}
      },
      "source": [
        "import numpy as np\n",
        "import tensorflow as tf\n",
        "from tensorflow import keras\n",
        "from tensorflow.keras import layers\n",
        "import matplotlib.pyplot as plt\n",
        "\n",
        "tf.keras.backend.clear_session()"
      ],
      "execution_count": 0,
      "outputs": []
    },
    {
      "cell_type": "code",
      "metadata": {
        "id": "N2Nop1tEXXbj",
        "colab_type": "code",
        "colab": {}
      },
      "source": [
        "(x, y), (x_test, y_test) = keras.datasets.cifar10.load_data()"
      ],
      "execution_count": 0,
      "outputs": []
    },
    {
      "cell_type": "code",
      "metadata": {
        "id": "GjpH0W8T4Tmn",
        "colab_type": "code",
        "colab": {
          "base_uri": "https://localhost:8080/",
          "height": 34
        },
        "outputId": "48578913-f0b6-4443-a63d-830469e0cefd"
      },
      "source": [
        "print(x.shape, y.shape)"
      ],
      "execution_count": 47,
      "outputs": [
        {
          "output_type": "stream",
          "text": [
            "(50000, 32, 32, 3) (50000, 1)\n"
          ],
          "name": "stdout"
        }
      ]
    },
    {
      "cell_type": "code",
      "metadata": {
        "id": "V97pLmteoBLs",
        "colab_type": "code",
        "colab": {}
      },
      "source": [
        "def normalize(x, y):\n",
        "  x = tf.image.per_image_standardization(x)\n",
        "  return x, y\n",
        "\n",
        "ds = tf.data.Dataset.from_tensor_slices((x, y)).map(normalize).batch(256).shuffle(buffer_size=10000)"
      ],
      "execution_count": 0,
      "outputs": []
    },
    {
      "cell_type": "code",
      "metadata": {
        "id": "xmGiI0fqasUB",
        "colab_type": "code",
        "colab": {}
      },
      "source": [
        "def VGG16():\n",
        "  inputs = keras.Input((32, 32, 3))\n",
        "  # Phase 1\n",
        "  x = layers.Conv2D(64, (3, 3), padding=\"SAME\", activation='relu')(inputs)\n",
        "  x = layers.Conv2D(64, (3, 3), padding=\"SAME\", activation='relu')(x)\n",
        "  x = layers.MaxPooling2D(pool_size=(2, 2), strides=(2 , 2))(x)\n",
        "  \n",
        "  # Phase 2 \n",
        "  x = layers.Conv2D(128, (3, 3), padding=\"SAME\", activation='relu')(x)\n",
        "  x = layers.Conv2D(128, (3, 3), padding=\"SAME\", activation='relu')(x)\n",
        "  x = layers.MaxPooling2D(pool_size=(2, 2), strides=(2 , 2))(x)\n",
        "\n",
        "  # Phase 3\n",
        "  x = layers.Conv2D(256, (3, 3), padding=\"SAME\", activation='relu')(x)\n",
        "  x = layers.Conv2D(256, (3, 3), padding=\"SAME\", activation='relu')(x)\n",
        "  x = layers.Conv2D(256, (3, 3), padding=\"SAME\", activation='relu')(x)\n",
        "  x = layers.MaxPooling2D(pool_size=(2, 2), strides=(2 , 2))(x)\n",
        "\n",
        "  # Phase 3\n",
        "  x = layers.Conv2D(512, (3, 3), padding=\"SAME\", activation='relu')(x)\n",
        "  x = layers.Conv2D(512, (3, 3), padding=\"SAME\", activation='relu')(x)\n",
        "  x = layers.Conv2D(512, (3, 3), padding=\"SAME\", activation='relu')(x)\n",
        "  x = layers.MaxPooling2D(pool_size=(2, 2), strides=(2 , 2))(x)\n",
        "\n",
        "  x = layers.Flatten()(x)\n",
        "  x = layers.Dense(4096, activation='relu')(x)\n",
        "  x = layers.Dense(4096, activation='relu')(x)\n",
        "  x = layers.Dense(1000, activation='relu')(x)\n",
        "  outputs = layers.Dense(10, activation=\"softmax\")(x)\n",
        "  return keras.Model(inputs=inputs, outputs=outputs)"
      ],
      "execution_count": 0,
      "outputs": []
    },
    {
      "cell_type": "code",
      "metadata": {
        "id": "2pEmEx2JdkaL",
        "colab_type": "code",
        "colab": {
          "base_uri": "https://localhost:8080/",
          "height": 272
        },
        "outputId": "2a478386-6a0d-40b2-9f5a-23f65996d0f7"
      },
      "source": [
        "strategy = tf.distribute.MirroredStrategy()\n",
        "\n",
        "with strategy.scope():\n",
        "  print(\"Num GPUs Available: \", len(tf.config.list_physical_devices('GPU')))\n",
        "  model = VGG16()\n",
        "  model.compile(\n",
        "            loss=tf.losses.sparse_categorical_crossentropy,\n",
        "            optimizer=tf.keras.optimizers.SGD(learning_rate=0.001, momentum=0.9),\n",
        "            metrics=['accuracy'])\n",
        "  \n",
        "  history = model.fit(ds, epochs=10, validation_data=(x_test, y_test))"
      ],
      "execution_count": 0,
      "outputs": [
        {
          "output_type": "stream",
          "text": [
            "INFO:tensorflow:Using MirroredStrategy with devices ('/job:localhost/replica:0/task:0/device:GPU:0',)\n",
            "Num GPUs Available:  1\n",
            "Epoch 1/10\n",
            "196/196 [==============================] - 25s 128ms/step - loss: 1.9330 - accuracy: 0.2921 - val_loss: 2.2968 - val_accuracy: 0.1904\n",
            "Epoch 2/10\n",
            "196/196 [==============================] - 24s 123ms/step - loss: 1.6178 - accuracy: 0.4155 - val_loss: 2.1466 - val_accuracy: 0.2303\n",
            "Epoch 3/10\n",
            "196/196 [==============================] - 24s 123ms/step - loss: 1.4623 - accuracy: 0.4772 - val_loss: 2.3090 - val_accuracy: 0.1853\n",
            "Epoch 4/10\n",
            "196/196 [==============================] - 24s 123ms/step - loss: 1.3448 - accuracy: 0.5201 - val_loss: 2.3711 - val_accuracy: 0.2337\n",
            "Epoch 5/10\n",
            "196/196 [==============================] - 24s 123ms/step - loss: 1.2403 - accuracy: 0.5584 - val_loss: 2.0390 - val_accuracy: 0.2751\n",
            "Epoch 6/10\n",
            "196/196 [==============================] - 24s 124ms/step - loss: 1.1511 - accuracy: 0.5935 - val_loss: 2.1004 - val_accuracy: 0.2647\n",
            "Epoch 7/10\n"
          ],
          "name": "stdout"
        }
      ]
    },
    {
      "cell_type": "code",
      "metadata": {
        "id": "GKSHqpanzTRL",
        "colab_type": "code",
        "colab": {
          "base_uri": "https://localhost:8080/",
          "height": 295
        },
        "outputId": "212ee9c7-9bab-43a8-9dfe-ac32f1aa3dce"
      },
      "source": [
        "plt.plot(history.history[\"accuracy\"])\n",
        "plt.plot(history.history['val_accuracy'])\n",
        "plt.title(\"model accuracy\")\n",
        "plt.ylabel(\"Accuracy\")\n",
        "plt.xlabel(\"Epoch\")\n",
        "plt.legend([\"Accuracy\",\"Validation Accuracy\",\"loss\",\"Validation Loss\"])\n",
        "plt.show()"
      ],
      "execution_count": 44,
      "outputs": [
        {
          "output_type": "display_data",
          "data": {
            "image/png": "[encoded data removed]",
            "text/plain": [
              "<Figure size 432x288 with 1 Axes>"
            ]
          },
          "metadata": {
            "tags": [],
            "needs_background": "light"
          }
        }
      ]
    },
    {
      "cell_type": "code",
      "metadata": {
        "id": "oMyZPG-N0UkU",
        "colab_type": "code",
        "colab": {}
      },
      "source": [
        ""
      ],
      "execution_count": 0,
      "outputs": []
    }
  ]
}