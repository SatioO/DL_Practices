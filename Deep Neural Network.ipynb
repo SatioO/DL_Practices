{
 "cells": [
  {
   "cell_type": "code",
   "execution_count": 68,
   "metadata": {},
   "outputs": [],
   "source": [
    "import numpy as np"
   ]
  },
  {
   "cell_type": "code",
   "execution_count": 69,
   "metadata": {},
   "outputs": [],
   "source": [
    "X = np.array([\n",
    "    [[1,1,1,1], [3,3,3,3], [5,5,5,5]],\n",
    "    [[2,2,2,2], [4,4,4,4], [6,6,6,6]],\n",
    "    [[2,2,2,2], [4,4,8,8], [3,3,4,4]],\n",
    "    [[3,3,3,3], [5,5,5,5], [7,7,7,7]],\n",
    "    [[5,5,5,5], [8,8,8,8], [4,3,3,4]],\n",
    "    [[5,5,5,5], [7,7,7,7], [9,9,9,9]],\n",
    "    [[1,1,1,1], [8,7,7,8], [9,9,9,9]],\n",
    "    [[1,2,2,1], [8,8,8,8], [4,4,4,4]],\n",
    "])\n",
    "\n",
    "y = np.array([[1, 1, 0, 1, 0, 1, 0, 0]])"
   ]
  },
  {
   "cell_type": "code",
   "execution_count": 70,
   "metadata": {},
   "outputs": [],
   "source": [
    "class Activation:\n",
    "    def sigmoid(x):\n",
    "        return 1 / (1 + np.exp(-x))\n",
    "\n",
    "    def relu(x):\n",
    "        return np.maximum(0,x)\n",
    "\n",
    "    def softmax(x):\n",
    "        return np.exp(x) / np.sum(np.exp(x), axis=0)\n",
    "\n",
    "class Sequential():\n",
    "    def __init__(self, layers):\n",
    "        self.layers = layers\n",
    "        \n",
    "    def fit(self, x, epochs = 10, batch_size=32):        \n",
    "        for epoch in range(epochs):\n",
    "            x_i = np.copy(x)\n",
    "            for layer in self.layers:\n",
    "                x_i = layer(x_i)\n",
    "\n",
    "        return x_i\n",
    "    \n",
    "def Flatten():\n",
    "    def call(inputs):\n",
    "        return np.reshape(inputs, (inputs.shape[0], -1)).T\n",
    "    return call\n",
    "\n",
    "def Dense(layer_size, activation = Activation.relu):\n",
    "    def call(inputs):\n",
    "        W = np.zeros((inputs.shape[0], layer_size))\n",
    "        Z = np.dot(W.T, inputs)\n",
    "        A = activation(Z)\n",
    "        return A\n",
    "    \n",
    "    return call\n",
    "\n",
    "def Conv2d():\n",
    "    def call(inputs):\n",
    "        pass\n",
    "    \n",
    "    return call"
   ]
  },
  {
   "cell_type": "code",
   "execution_count": 71,
   "metadata": {},
   "outputs": [],
   "source": [
    "model = Sequential([\n",
    "    Flatten(),\n",
    "    Dense(16),\n",
    "    Dense(64),\n",
    "    Dense(2, activation=Activation.softmax)\n",
    "])"
   ]
  },
  {
   "cell_type": "code",
   "execution_count": 66,
   "metadata": {},
   "outputs": [],
   "source": [
    "history = model.fit(X, epochs=10, batch_size=32)"
   ]
  },
  {
   "cell_type": "code",
   "execution_count": 67,
   "metadata": {},
   "outputs": [
    {
     "data": {
      "text/plain": [
       "array([[0.5, 0.5, 0.5, 0.5, 0.5, 0.5, 0.5, 0.5],\n",
       "       [0.5, 0.5, 0.5, 0.5, 0.5, 0.5, 0.5, 0.5]])"
      ]
     },
     "execution_count": 67,
     "metadata": {},
     "output_type": "execute_result"
    }
   ],
   "source": [
    "history"
   ]
  },
  {
   "cell_type": "code",
   "execution_count": null,
   "metadata": {},
   "outputs": [],
   "source": []
  }
 ],
 "metadata": {
  "kernelspec": {
   "display_name": "Python 3",
   "language": "python",
   "name": "python3"
  },
  "language_info": {
   "codemirror_mode": {
    "name": "ipython",
    "version": 3
   },
   "file_extension": ".py",
   "mimetype": "text/x-python",
   "name": "python",
   "nbconvert_exporter": "python",
   "pygments_lexer": "ipython3",
   "version": "3.7.7"
  }
 },
 "nbformat": 4,
 "nbformat_minor": 2
}
