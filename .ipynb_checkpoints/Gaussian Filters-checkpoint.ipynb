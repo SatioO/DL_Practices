{
 "cells": [
  {
   "cell_type": "code",
   "execution_count": 28,
   "metadata": {},
   "outputs": [],
   "source": [
    "import math\n",
    "import numpy as np"
   ]
  },
  {
   "cell_type": "code",
   "execution_count": 31,
   "metadata": {},
   "outputs": [
    {
     "data": {
      "image/png": "[encoded data removed]",
      "text/plain": [
       "<Figure size 432x288 with 1 Axes>"
      ]
     },
     "metadata": {
      "needs_background": "light"
     },
     "output_type": "display_data"
    },
    {
     "data": {
      "text/plain": [
       "array([[0.71653131, 0.84648172, 0.71653131],\n",
       "       [0.84648172, 1.        , 0.84648172],\n",
       "       [0.71653131, 0.84648172, 0.71653131]])"
      ]
     },
     "execution_count": 31,
     "metadata": {},
     "output_type": "execute_result"
    }
   ],
   "source": [
    "def dnorm(x, mu, sd):\n",
    "    return 1 / (np.sqrt(2 * np.pi) * sd) * np.e ** (-np.power((x - mu) / sd, 2) / 2)\n",
    "\n",
    "def gaussian_kernel(size, sigma=1, verbose=False):\n",
    "    kernel_1D = np.linspace(-(size // 2), (size // 2), size)\n",
    "    for i in range(size):\n",
    "        kernel_1D[i] = dnorm(kernel_1D[i], 0, sigma)\n",
    "    \n",
    "    kernel_2D = np.outer(kernel_1D.T, kernel_1D.T)\n",
    "    kernel_2D *= 1.0 / kernel_2D.max()\n",
    "    \n",
    "    if verbose:\n",
    "        plt.imshow(kernel_2D, interpolation='none', cmap='gray')\n",
    "        plt.title(\"Kernel ( {}X{} )\".format(size, size))\n",
    "        plt.show()\n",
    "\n",
    "    return kernel_2D\n",
    "\n",
    "    \n",
    "def gaussian_blur(kernel_size, verbose=False):\n",
    "    kernel = gaussian_kernel(kernel_size, sigma=math.sqrt(kernel_size), verbose=verbose)\n",
    "    return kernel\n",
    "\n",
    "gaussian_blur(3, verbose=True)"
   ]
  },
  {
   "cell_type": "code",
   "execution_count": null,
   "metadata": {},
   "outputs": [],
   "source": []
  }
 ],
 "metadata": {
  "kernelspec": {
   "display_name": "Python 3",
   "language": "python",
   "name": "python3"
  },
  "language_info": {
   "codemirror_mode": {
    "name": "ipython",
    "version": 3
   },
   "file_extension": ".py",
   "mimetype": "text/x-python",
   "name": "python",
   "nbconvert_exporter": "python",
   "pygments_lexer": "ipython3",
   "version": "3.7.7"
  }
 },
 "nbformat": 4,
 "nbformat_minor": 2
}
