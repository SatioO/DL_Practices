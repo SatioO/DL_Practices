{
 "cells": [
  {
   "cell_type": "code",
   "execution_count": 133,
   "metadata": {},
   "outputs": [],
   "source": [
    "import numpy as np"
   ]
  },
  {
   "cell_type": "code",
   "execution_count": 134,
   "metadata": {},
   "outputs": [],
   "source": [
    "X = np.array([\n",
    "    [\n",
    "        [1,1,1,1], \n",
    "        [3,3,3,3], \n",
    "        [5,5,5,5]\n",
    "    ],\n",
    "    [[2,2,2,2], [4,4,4,4], [6,6,6,6]],\n",
    "    [[2,2,2,2], [4,4,8,8], [3,3,4,4]],\n",
    "    [[3,3,3,3], [5,5,5,5], [7,7,7,7]],\n",
    "    [[5,5,5,5], [8,8,8,8], [4,3,3,4]],\n",
    "    [[5,5,5,5], [7,7,7,7], [9,9,9,9]],\n",
    "    [[1,1,1,1], [8,7,7,8], [9,9,9,9]],\n",
    "    [[1,2,2,1], [8,8,8,8], [4,4,4,4]],\n",
    "])\n",
    "\n",
    "y = np.array([[1, 1, 0, 1, 0, 1, 0, 0]])"
   ]
  },
  {
   "cell_type": "code",
   "execution_count": 238,
   "metadata": {},
   "outputs": [],
   "source": [
    "class Activation:\n",
    "    def sigmoid(x):\n",
    "        return 1 / (1 + np.exp(-x))\n",
    "\n",
    "    def relu(x):\n",
    "        return np.maximum(0,x)\n",
    "\n",
    "    def softmax(x):\n",
    "        return np.exp(x) / np.sum(np.exp(x), axis=0)\n",
    "\n",
    "class Sequential():\n",
    "    def __init__(self, layers):\n",
    "        self.layers = layers\n",
    "        \n",
    "    def fit(self, x, epochs = 10, batch_size=32):        \n",
    "        for epoch in range(epochs):\n",
    "            x_i = np.copy(x)\n",
    "            for layer in self.layers:\n",
    "                x_i = layer(x_i)\n",
    "\n",
    "        return x_i\n",
    "    \n",
    "def Flatten():\n",
    "    def apply(inputs):\n",
    "        return np.reshape(inputs, (inputs.shape[0], -1)).T\n",
    "    return apply\n",
    "\n",
    "def Dense(layer_size, activation = Activation.relu):\n",
    "    def apply(inputs):\n",
    "        W = np.zeros((inputs.shape[0], layer_size))\n",
    "        Z = np.dot(W.T, inputs)\n",
    "        A = activation(Z)\n",
    "        return A\n",
    "    \n",
    "    return apply\n",
    "\n",
    "def Conv2d(kernel_depth, kernel_size = 3, padding='SAME', strides = 1):\n",
    "    def apply(inputs):\n",
    "        print(inputs.shape)\n",
    "        for i, x in enumerate(inputs):\n",
    "            input_row = x.shape[0]\n",
    "            input_col = x.shape[1]\n",
    "\n",
    "            kernel = np.ones((kernel_size, kernel_size))\n",
    "            pad_size = (kernel_size - 1) // 2\n",
    "\n",
    "            padded_image = np.zeros((input_row + (2 * pad_size), input_col + (2 * pad_size)))\n",
    "            padded_image[pad_size:pad_size + input_row, pad_size: pad_size + input_col] = x\n",
    "\n",
    "            \n",
    "\n",
    "            for row in range(input_row):\n",
    "                for col in range(input_col):\n",
    "                    output[row, col] = np.sum(np.multiply(kernel, padded_image[row: row + kernel_size, col: col + kernel_size]))\n",
    "        \n",
    "        return output\n",
    "    \n",
    "    return apply"
   ]
  },
  {
   "cell_type": "code",
   "execution_count": 239,
   "metadata": {},
   "outputs": [],
   "source": [
    "model = Sequential([\n",
    "    Conv2d(32)\n",
    "])"
   ]
  },
  {
   "cell_type": "code",
   "execution_count": 240,
   "metadata": {},
   "outputs": [
    {
     "name": "stdout",
     "output_type": "stream",
     "text": [
      "(8, 3, 4)\n"
     ]
    }
   ],
   "source": [
    "history = model.fit(X, epochs=1, batch_size=32)"
   ]
  },
  {
   "cell_type": "code",
   "execution_count": 241,
   "metadata": {},
   "outputs": [
    {
     "data": {
      "text/plain": [
       "array([[19., 29., 29., 19.],\n",
       "       [27., 41., 41., 27.],\n",
       "       [24., 36., 36., 24.]])"
      ]
     },
     "execution_count": 241,
     "metadata": {},
     "output_type": "execute_result"
    }
   ],
   "source": [
    "history"
   ]
  },
  {
   "cell_type": "code",
   "execution_count": null,
   "metadata": {},
   "outputs": [],
   "source": []
  }
 ],
 "metadata": {
  "kernelspec": {
   "display_name": "Python 3",
   "language": "python",
   "name": "python3"
  },
  "language_info": {
   "codemirror_mode": {
    "name": "ipython",
    "version": 3
   },
   "file_extension": ".py",
   "mimetype": "text/x-python",
   "name": "python",
   "nbconvert_exporter": "python",
   "pygments_lexer": "ipython3",
   "version": "3.7.7"
  }
 },
 "nbformat": 4,
 "nbformat_minor": 2
}
