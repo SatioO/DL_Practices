{
 "cells": [
  {
   "cell_type": "code",
   "execution_count": 32,
   "metadata": {},
   "outputs": [],
   "source": [
    "import numpy as np\n",
    "import matplotlib.pyplot as plt"
   ]
  },
  {
   "cell_type": "code",
   "execution_count": 98,
   "metadata": {},
   "outputs": [],
   "source": [
    "X = np.array([\n",
    "    [[1,1,1,1], [3,3,3,3], [5,5,5,5]],\n",
    "    [[2,2,2,2], [4,4,4,4], [6,6,6,6]],\n",
    "    [[2,2,2,2], [4,4,8,8], [3,3,4,4]],\n",
    "    [[3,3,3,3], [5,5,5,5], [7,7,7,7]],\n",
    "    [[5,5,5,5], [8,8,8,8], [4,3,3,4]],\n",
    "    [[5,5,5,5], [7,7,7,7], [9,9,9,9]],\n",
    "    [[1,1,1,1], [8,7,7,8], [9,9,9,9]],\n",
    "    [[1,2,2,1], [8,8,8,8], [4,4,4,4]],\n",
    "], dtype=np.float32)\n",
    "\n",
    "X = X[..., np.newaxis]\n",
    "y = np.array([[1, 1, 0, 1, 0, 1, 0, 0]])"
   ]
  },
  {
   "cell_type": "code",
   "execution_count": 142,
   "metadata": {},
   "outputs": [],
   "source": [
    "class Activation:\n",
    "    def sigmoid(x):\n",
    "        return 1 / (1 + np.exp(-x))\n",
    "\n",
    "    def relu(x):\n",
    "        return np.maximum(0,x)\n",
    "\n",
    "    def softmax(x):\n",
    "        return np.exp(x) / np.sum(np.exp(x), axis=0)\n",
    "\n",
    "class Sequential():\n",
    "    def __init__(self, layers):\n",
    "        self.layers = layers\n",
    "        \n",
    "    def fit(self, x, epochs = 10, batch_size=32):        \n",
    "        for epoch in range(epochs):\n",
    "            x_i = np.copy(x)\n",
    "            for layer in self.layers:\n",
    "                x_i = layer(x_i)\n",
    "\n",
    "        return x_i\n",
    "    \n",
    "def Flatten():\n",
    "    def apply(inputs):\n",
    "        return np.reshape(inputs, (inputs.shape[0], -1)).T\n",
    "    return apply\n",
    "\n",
    "def Dense(layer_size, activation = Activation.relu):\n",
    "    def apply(inputs):\n",
    "        W = np.zeros((inputs.shape[0], layer_size))\n",
    "        Z = np.dot(W.T, inputs)\n",
    "        A = activation(Z)\n",
    "        return A\n",
    "    \n",
    "    return apply\n",
    "\n",
    "def Conv2D(kernel_depth, kernel_size = 3, padding='SAME', strides = 1, average = True):\n",
    "    def apply(inputs):\n",
    "        batch_size = inputs.shape[0]\n",
    "        input_row = inputs.shape[1]\n",
    "        input_col = inputs.shape[2]\n",
    "        \n",
    "        weights = np.zeros((batch_size, input_row, input_col, kernel_depth))\n",
    "        \n",
    "        for i, x in enumerate(inputs):\n",
    "            kernel = np.ones((kernel_size, kernel_size))\n",
    "            pad_size = (kernel_size - 1) // 2\n",
    "\n",
    "            padded_image = np.zeros((input_row + (2 * pad_size), input_col + (2 * pad_size)))\n",
    "            padded_image[pad_size:pad_size + input_row, pad_size: pad_size + input_col] = x[:, :, 0]\n",
    "\n",
    "            for row in range(input_row):\n",
    "                for col in range(input_col):\n",
    "                    weights[i, row, col] = np.sum(np.multiply(kernel, padded_image[row: row + kernel_size, col: col + kernel_size]))\n",
    "                    if average:\n",
    "                        weights[i, row, col] = np.divide(weights[i, row, col], np.multiply(kernel.shape[0], kernel.shape[1]))\n",
    "        return weights\n",
    "    \n",
    "    return apply"
   ]
  },
  {
   "cell_type": "code",
   "execution_count": 145,
   "metadata": {},
   "outputs": [],
   "source": [
    "model = Sequential([\n",
    "    Conv2D(4, kernel_size=3),\n",
    "    Conv2D(8, kernel_size=3),\n",
    "])"
   ]
  },
  {
   "cell_type": "code",
   "execution_count": 146,
   "metadata": {},
   "outputs": [
    {
     "name": "stdout",
     "output_type": "stream",
     "text": [
      "(8, 3, 4, 1)\n",
      "(8, 3, 4, 4)\n"
     ]
    }
   ],
   "source": [
    "history = model.fit(X, epochs=1, batch_size=32)"
   ]
  },
  {
   "cell_type": "code",
   "execution_count": null,
   "metadata": {},
   "outputs": [],
   "source": []
  }
 ],
 "metadata": {
  "kernelspec": {
   "display_name": "Python 3",
   "language": "python",
   "name": "python3"
  }
 },
 "nbformat": 4,
 "nbformat_minor": 2
}
