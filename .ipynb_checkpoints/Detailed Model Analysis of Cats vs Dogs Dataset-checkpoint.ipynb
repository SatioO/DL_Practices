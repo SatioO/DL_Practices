{
 "cells": [
  {
   "cell_type": "code",
   "execution_count": 1,
   "metadata": {},
   "outputs": [],
   "source": [
    "import tensorflow as tf\n",
    "import os\n",
    "import random\n",
    "import shutil\n",
    "\n",
    "tf.random.set_seed(1)\n",
    "random.seed(1)"
   ]
  },
  {
   "cell_type": "code",
   "execution_count": 6,
   "metadata": {},
   "outputs": [],
   "source": [
    "PATH ='./data/dogs-vs-cats/'\n",
    "\n",
    "train_dir = os.path.join(PATH, 'train')\n",
    "valid_dir = os.path.join(PATH, 'validation')\n",
    "test_dir = os.path.join(PATH, 'test')"
   ]
  },
  {
   "cell_type": "code",
   "execution_count": 7,
   "metadata": {},
   "outputs": [],
   "source": [
    "train_len = len(os.listdir(train_dir))\n",
    "valid_len = len(os.listdir(valid_dir))\n",
    "test_len = len(os.listdir(test_dir))"
   ]
  },
  {
   "cell_type": "code",
   "execution_count": 8,
   "metadata": {},
   "outputs": [
    {
     "name": "stdout",
     "output_type": "stream",
     "text": [
      "total training images: 20000\n",
      "total validation images: 5000\n",
      "total testing images: 12500\n"
     ]
    }
   ],
   "source": [
    "print('total training images:', train_len)\n",
    "print('total validation images:', valid_len)\n",
    "print('total testing images:', test_len)"
   ]
  },
  {
   "cell_type": "code",
   "execution_count": 9,
   "metadata": {},
   "outputs": [],
   "source": [
    "# def create_validation_sets():\n",
    "#     shutil.rmtree(valid_dir)\n",
    "#     os.mkdir(valid_dir)\n",
    "#     shutil.rmtree(train_dir)\n",
    "#     os.mkdir(train_dir)\n",
    "    \n",
    "#     valid_images = random.sample(os.listdir(original_dir), int(train_len * 0.20))\n",
    "    \n",
    "#     for image in valid_images:\n",
    "#         shutil.move(os.path.join(original_dir, image), valid_dir)\n",
    "\n",
    "# create_validation_sets()"
   ]
  },
  {
   "cell_type": "code",
   "execution_count": 52,
   "metadata": {},
   "outputs": [],
   "source": [
    "CLASSNAMES = [\"cat\", \"dog\"]"
   ]
  },
  {
   "cell_type": "code",
   "execution_count": 63,
   "metadata": {},
   "outputs": [],
   "source": [
    "def process_data(path):\n",
    "    label = tf.strings.split(path, os.path.sep)[-1]\n",
    "    label = tf.strings.split(label, \".\")[0]\n",
    "    return tf.cast(label == CLASSNAMES, tf.float32)\n",
    "\n",
    "def input_fn(path):\n",
    "    list_ds = tf.data.Dataset.list_files(str(path))\n",
    "    return list_ds.map(process_data)"
   ]
  },
  {
   "cell_type": "code",
   "execution_count": 64,
   "metadata": {},
   "outputs": [],
   "source": [
    "train = input_fn(os.path.join(train_dir, \"*\"))"
   ]
  },
  {
   "cell_type": "code",
   "execution_count": 65,
   "metadata": {},
   "outputs": [
    {
     "name": "stdout",
     "output_type": "stream",
     "text": [
      "tf.Tensor([0. 1.], shape=(2,), dtype=float32)\n",
      "tf.Tensor([1. 0.], shape=(2,), dtype=float32)\n",
      "tf.Tensor([0. 1.], shape=(2,), dtype=float32)\n",
      "tf.Tensor([0. 1.], shape=(2,), dtype=float32)\n",
      "tf.Tensor([1. 0.], shape=(2,), dtype=float32)\n"
     ]
    }
   ],
   "source": [
    "for i in train.take(5):\n",
    "    print(i)"
   ]
  },
  {
   "cell_type": "code",
   "execution_count": null,
   "metadata": {},
   "outputs": [],
   "source": []
  }
 ],
 "metadata": {
  "kernelspec": {
   "display_name": "Python 3",
   "language": "python",
   "name": "python3"
  },
  "language_info": {
   "codemirror_mode": {
    "name": "ipython",
    "version": 3
   },
   "file_extension": ".py",
   "mimetype": "text/x-python",
   "name": "python",
   "nbconvert_exporter": "python",
   "pygments_lexer": "ipython3",
   "version": "3.7.7"
  }
 },
 "nbformat": 4,
 "nbformat_minor": 2
}
