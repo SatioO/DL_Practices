{
 "cells": [
  {
   "cell_type": "code",
   "execution_count": 263,
   "metadata": {},
   "outputs": [],
   "source": [
    "import os\n",
    "import math\n",
    "import tensorflow as tf\n",
    "import six\n",
    "\n",
    "tf.random.set_seed(1)"
   ]
  },
  {
   "cell_type": "code",
   "execution_count": 291,
   "metadata": {},
   "outputs": [],
   "source": [
    "LIST_FOLDER = './data/VOCdevkit/VOC2012/ImageSets/Segmentation'\n",
    "OUTPUT_DIR = \"./data/VOCdevkit/tfrecord\"\n",
    "\n",
    "IMAGE_FOLDER = './data/VOCdevkit/VOC2012/JPEGImages'\n",
    "IMAGE_FORMAT = 'jpg'\n",
    "\n",
    "SEGMENTATION_FOLDER = \"./data/VOCdevkit/VOC2012/SegmentationClass\"\n",
    "SEGMENTATION_FORMAT = 'png'\n",
    "\n",
    "NUM_SHARDS = 4\n",
    "\n",
    "def _bytes_feature(value):\n",
    "    \"\"\"Returns a bytes_list from a string / byte.\"\"\"\n",
    "    if isinstance(value, type(tf.constant(0))):\n",
    "        value = value.numpy() # BytesList won't unpack a string from an EagerTensor.\n",
    "    return tf.train.Feature(bytes_list=tf.train.BytesList(value=[value]))\n",
    "\n",
    "def _float_feature(value):\n",
    "    \"\"\"Returns a float_list from a float / double.\"\"\"\n",
    "    return tf.train.Feature(float_list=tf.train.FloatList(value=[value]))\n",
    "\n",
    "def _int64_feature(value):\n",
    "    \"\"\"Returns an int64_list from a bool / enum / int / uint.\"\"\"\n",
    "    return tf.train.Feature(int64_list=tf.train.Int64List(value=[value]))\n",
    "\n",
    "def img_seg_to_example(filename, image_data, seg_data):\n",
    "    feature = {\n",
    "        'image/encoded': _bytes_list_feature(image_data),\n",
    "        'image/filename': _bytes_list_feature(filename),\n",
    "        'image/channels': _int64_feature(3),\n",
    "        'image/segmentation/class/encoded': (_bytes_list_feature(seg_data)),\n",
    "    }\n",
    "    \n",
    "    return tf.train.Example(features=tf.train.Features(feature=feature))\n",
    "\n",
    "def convert_dataset(dataset_split):\n",
    "    dataset = os.path.basename(dataset_split)[:-4]\n",
    "    \n",
    "    filenames = [x.strip('\\n') for x in open(dataset_split, 'r')]\n",
    "    num_images = len(filenames)\n",
    "    \n",
    "    print(f\"Processing {dataset}: {num_images} Images\")\n",
    "    num_per_shard = int(math.ceil(num_images / NUM_SHARDS))\n",
    "    \n",
    "    for shard_id in range(NUM_SHARDS):\n",
    "        output_filename = os.path.join(OUTPUT_DIR, '%s-%05d-of-%05d.tfrecord' % (dataset, shard_id, NUM_SHARDS))\n",
    "        with tf.io.TFRecordWriter(output_filename) as writer:\n",
    "            start_idx = shard_id * num_per_shard\n",
    "            end_idx = min((shard_id + 1) * num_per_shard, num_images)\n",
    "            for i in range(start_idx, 2):\n",
    "                # READ IMAGE             \n",
    "                image_filename = os.path.join(IMAGE_FOLDER, filenames[i] + '.' + IMAGE_FORMAT)\n",
    "                image_data = tf.io.gfile.GFile(image_filename, mode='rb').read()\n",
    "\n",
    "                # READ SEGMENTATION\n",
    "                seg_filename = os.path.join(SEGMENTATION_FOLDER, filenames[i] + '.' + SEGMENTATION_FORMAT)\n",
    "                seg_data = tf.io.gfile.GFile(seg_filename, mode='rb').read()\n",
    "\n",
    "                example = img_seg_to_example(filenames[i], image_data, seg_data)\n",
    "                writer.write(example.SerializeToString())\n",
    "            \n",
    "def main():\n",
    "    dataset_splits = tf.io.gfile.glob(os.path.join(LIST_FOLDER, \"*.txt\"))\n",
    "    for dataset_split in dataset_splits:\n",
    "        convert_dataset(dataset_split)"
   ]
  },
  {
   "cell_type": "code",
   "execution_count": 292,
   "metadata": {},
   "outputs": [
    {
     "name": "stdout",
     "output_type": "stream",
     "text": [
      "Processing train: 1464 Images\n",
      "Processing val: 1449 Images\n"
     ]
    }
   ],
   "source": [
    "if __name__ == \"__main__\":\n",
    "    main()"
   ]
  },
  {
   "cell_type": "code",
   "execution_count": null,
   "metadata": {},
   "outputs": [],
   "source": []
  },
  {
   "cell_type": "code",
   "execution_count": null,
   "metadata": {},
   "outputs": [],
   "source": []
  }
 ],
 "metadata": {
  "kernelspec": {
   "display_name": "Python 3",
   "language": "python",
   "name": "python3"
  },
  "language_info": {
   "codemirror_mode": {
    "name": "ipython",
    "version": 3
   },
   "file_extension": ".py",
   "mimetype": "text/x-python",
   "name": "python",
   "nbconvert_exporter": "python",
   "pygments_lexer": "ipython3",
   "version": "3.7.7"
  }
 },
 "nbformat": 4,
 "nbformat_minor": 2
}
