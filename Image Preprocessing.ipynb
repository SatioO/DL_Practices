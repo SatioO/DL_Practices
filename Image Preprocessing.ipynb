{
 "cells": [
  {
   "cell_type": "code",
   "execution_count": 1,
   "metadata": {},
   "outputs": [],
   "source": [
    "# https://colab.research.google.com/github/tensorflow/docs/blob/master/site/en/tutorials/load_data/images.ipynb#scrollTo=3SDhbo8lOBQv\n",
    "\n",
    "import os\n",
    "import tensorflow as tf\n",
    "import numpy as np\n",
    "import matplotlib.pyplot as plt\n",
    "import pathlib\n",
    "\n",
    "import tempfile\n",
    "model_dir = tempfile.mkdtemp()"
   ]
  },
  {
   "cell_type": "code",
   "execution_count": 2,
   "metadata": {},
   "outputs": [],
   "source": [
    "data_dir = pathlib.Path(\"./data/dogs-vs-cats/\")"
   ]
  },
  {
   "cell_type": "code",
   "execution_count": 3,
   "metadata": {},
   "outputs": [],
   "source": [
    "image_count = len(list(data_dir.glob('*/*.jpg')))"
   ]
  },
  {
   "cell_type": "code",
   "execution_count": 4,
   "metadata": {},
   "outputs": [],
   "source": [
    "SEED = 0\n",
    "EPOCH_SIZE = 5\n",
    "BATCH_SIZE = 32\n",
    "BUFFER_SIZE= BATCH_SIZE * 5\n",
    "IMG_HEIGHT = 224\n",
    "IMG_WIDTH = 224\n",
    "STEPS_PER_EPOCH = image_count//BATCH_SIZE\n",
    "CLASS_NAMES = np.array([\"cat\", \"dog\"])\n",
    "\n",
    "tf.random.set_seed(SEED)"
   ]
  },
  {
   "cell_type": "code",
   "execution_count": 5,
   "metadata": {},
   "outputs": [],
   "source": [
    "def get_label(path):\n",
    "    s_path = tf.strings.split(path, os.path.sep)[-1]\n",
    "    label = tf.strings.split(s_path, \".\")[0]\n",
    "    if label == \"cat\":\n",
    "        return 0\n",
    "    else:\n",
    "        return 1\n",
    "\n",
    "def decode_img(img):\n",
    "  # convert the compressed string to a 3D uint8 tensor\n",
    "  img = tf.image.decode_jpeg(img, channels=3)\n",
    "  # Use `convert_image_dtype` to convert to floats in the [0,1] range.\n",
    "  img = tf.image.convert_image_dtype(img, tf.float32)\n",
    "  # resize the image to the desired size.\n",
    "  return tf.image.resize(img, [IMG_WIDTH, IMG_HEIGHT])\n",
    "\n",
    "def process_path(path):\n",
    "    label = get_label(path)\n",
    "    img = tf.io.read_file(path)\n",
    "    img = decode_img(img)\n",
    "    return img, label\n",
    "\n",
    "def scale_image(image, label):\n",
    "    image = tf.image.per_image_standardization(image)\n",
    "    return image, label"
   ]
  },
  {
   "cell_type": "code",
   "execution_count": 6,
   "metadata": {},
   "outputs": [
    {
     "name": "stderr",
     "output_type": "stream",
     "text": [
      "WARNING: Logging before flag parsing goes to stderr.\n",
      "W0423 13:32:13.389729 140735545316224 deprecation.py:323] From /usr/local/lib/python3.7/site-packages/tensorflow_core/python/ops/image_ops_impl.py:1518: div (from tensorflow.python.ops.math_ops) is deprecated and will be removed in a future version.\n",
      "Instructions for updating:\n",
      "Deprecated in favor of operator or tf.math.divide.\n"
     ]
    },
    {
     "name": "stdout",
     "output_type": "stream",
     "text": [
      "Image shape:  (32, 224, 224, 3)\n",
      "Label:  (32,)\n",
      "Image shape:  (32, 224, 224, 3)\n",
      "Label:  (32,)\n",
      "Image shape:  (32, 224, 224, 3)\n",
      "Label:  (32,)\n",
      "Image shape:  (32, 224, 224, 3)\n",
      "Label:  (32,)\n",
      "Image shape:  (32, 224, 224, 3)\n",
      "Label:  (32,)\n"
     ]
    }
   ],
   "source": [
    "def input_fn(path):\n",
    "    list_ds = tf.data.Dataset.list_files(str(path))\n",
    "    \n",
    "    return list_ds \\\n",
    "        .map(process_path, num_parallel_calls=tf.data.experimental.AUTOTUNE) \\\n",
    "        .map(scale_image) \\\n",
    "        .shuffle(BUFFER_SIZE) \\\n",
    "        .batch(BATCH_SIZE) \\\n",
    "        .prefetch(buffer_size=tf.data.experimental.AUTOTUNE) \\\n",
    "        .repeat(EPOCH_SIZE)\n",
    "\n",
    "for image, label in input_fn(data_dir/'*/*').take(5):\n",
    "    print(\"Image shape: \", image.numpy().shape)\n",
    "    print(\"Label: \", label.shape)"
   ]
  },
  {
   "cell_type": "code",
   "execution_count": 7,
   "metadata": {},
   "outputs": [],
   "source": [
    "train_ds = input_fn(data_dir/'*/*')"
   ]
  },
  {
   "cell_type": "code",
   "execution_count": 8,
   "metadata": {},
   "outputs": [],
   "source": [
    "def model_fn():\n",
    "    model = tf.keras.Sequential([\n",
    "        tf.keras.layers.Conv2D(8, kernel_size=(5, 5), input_shape=(IMG_HEIGHT, IMG_WIDTH, 3), activation='relu', padding='same'),\n",
    "        tf.keras.layers.MaxPooling2D(pool_size=(2, 2)),\n",
    "        tf.keras.layers.Conv2D(16, kernel_size=(5, 5), strides=(2, 2), input_shape=(IMG_HEIGHT, IMG_WIDTH, 3), activation='relu', padding='same'),\n",
    "        tf.keras.layers.MaxPooling2D(pool_size=(2, 2)),\n",
    "        tf.keras.layers.Flatten(),\n",
    "        tf.keras.layers.Dense(120, activation='relu'),\n",
    "        tf.keras.layers.Dense(84, activation='relu'),\n",
    "        tf.keras.layers.Dense(1)\n",
    "    ])\n",
    "\n",
    "    model.compile(optimizer=tf.optimizers.RMSprop(),\n",
    "                  loss=tf.losses.BinaryCrossentropy(from_logits=True), \n",
    "                  metrics=[\"accuracy\"])\n",
    "    \n",
    "    return model"
   ]
  },
  {
   "cell_type": "code",
   "execution_count": 9,
   "metadata": {},
   "outputs": [
    {
     "name": "stdout",
     "output_type": "stream",
     "text": [
      "Model: \"sequential\"\n",
      "_________________________________________________________________\n",
      "Layer (type)                 Output Shape              Param #   \n",
      "=================================================================\n",
      "conv2d (Conv2D)              (None, 224, 224, 8)       608       \n",
      "_________________________________________________________________\n",
      "max_pooling2d (MaxPooling2D) (None, 112, 112, 8)       0         \n",
      "_________________________________________________________________\n",
      "conv2d_1 (Conv2D)            (None, 56, 56, 16)        3216      \n",
      "_________________________________________________________________\n",
      "max_pooling2d_1 (MaxPooling2 (None, 28, 28, 16)        0         \n",
      "_________________________________________________________________\n",
      "flatten (Flatten)            (None, 12544)             0         \n",
      "_________________________________________________________________\n",
      "dense (Dense)                (None, 120)               1505400   \n",
      "_________________________________________________________________\n",
      "dense_1 (Dense)              (None, 84)                10164     \n",
      "_________________________________________________________________\n",
      "dense_2 (Dense)              (None, 1)                 85        \n",
      "=================================================================\n",
      "Total params: 1,519,473\n",
      "Trainable params: 1,519,473\n",
      "Non-trainable params: 0\n",
      "_________________________________________________________________\n"
     ]
    }
   ],
   "source": [
    "model = model_fn()\n",
    "model.summary()"
   ]
  },
  {
   "cell_type": "code",
   "execution_count": 10,
   "metadata": {},
   "outputs": [
    {
     "name": "stdout",
     "output_type": "stream",
     "text": [
      "Train for 781 steps\n",
      "Epoch 1/5\n",
      "781/781 [==============================] - 272s 349ms/step - loss: 0.5639 - accuracy: 0.6960\n",
      "Epoch 2/5\n",
      "781/781 [==============================] - 274s 351ms/step - loss: 0.4412 - accuracy: 0.7843\n",
      "Epoch 3/5\n",
      "781/781 [==============================] - 599s 767ms/step - loss: 0.3452 - accuracy: 0.8419\n",
      "Epoch 4/5\n",
      "781/781 [==============================] - 284s 364ms/step - loss: 0.2331 - accuracy: 0.9016\n",
      "Epoch 5/5\n",
      "781/781 [==============================] - 301s 385ms/step - loss: 0.1279 - accuracy: 0.9522\n"
     ]
    }
   ],
   "source": [
    "history = model.fit(train_ds, epochs = EPOCH_SIZE, steps_per_epoch = STEPS_PER_EPOCH, use_multiprocessing=True, workers=7)"
   ]
  },
  {
   "cell_type": "code",
   "execution_count": 11,
   "metadata": {},
   "outputs": [],
   "source": [
    "acc = history.history['accuracy']\n",
    "loss=history.history['loss']"
   ]
  },
  {
   "cell_type": "code",
   "execution_count": 12,
   "metadata": {},
   "outputs": [
    {
     "data": {
      "image/png": "[encoded data removed]",
      "text/plain": [
       "<Figure size 432x288 with 1 Axes>"
      ]
     },
     "metadata": {
      "needs_background": "light"
     },
     "output_type": "display_data"
    }
   ],
   "source": [
    "epochs_range = range(EPOCH_SIZE)\n",
    "# plt.subplot(1, 2, 2)\n",
    "plt.plot(epochs_range, acc, label='Training Loss')\n",
    "plt.legend(loc='upper right')\n",
    "plt.title('Training and Validation Loss')\n",
    "plt.show()"
   ]
  },
  {
   "cell_type": "code",
   "execution_count": 13,
   "metadata": {},
   "outputs": [
    {
     "name": "stdout",
     "output_type": "stream",
     "text": [
      "100/100 [==============================] - 13s 135ms/step - loss: 0.0684 - accuracy: 0.9747\n"
     ]
    },
    {
     "data": {
      "text/plain": [
       "[0.06841536214575171, 0.9746875]"
      ]
     },
     "execution_count": 13,
     "metadata": {},
     "output_type": "execute_result"
    }
   ],
   "source": [
    "model.evaluate(train_ds, steps=100)"
   ]
  },
  {
   "cell_type": "code",
   "execution_count": null,
   "metadata": {},
   "outputs": [],
   "source": []
  },
  {
   "cell_type": "code",
   "execution_count": null,
   "metadata": {},
   "outputs": [],
   "source": []
  }
 ],
 "metadata": {
  "kernelspec": {
   "display_name": "Python 3",
   "language": "python",
   "name": "python3"
  },
  "language_info": {
   "codemirror_mode": {
    "name": "ipython",
    "version": 3
   },
   "file_extension": ".py",
   "mimetype": "text/x-python",
   "name": "python",
   "nbconvert_exporter": "python",
   "pygments_lexer": "ipython3",
   "version": "3.7.7"
  }
 },
 "nbformat": 4,
 "nbformat_minor": 2
}
