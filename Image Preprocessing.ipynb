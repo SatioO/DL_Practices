{
 "cells": [
  {
   "cell_type": "code",
   "execution_count": 1,
   "metadata": {},
   "outputs": [],
   "source": [
    "# https://colab.research.google.com/github/tensorflow/docs/blob/master/site/en/tutorials/load_data/images.ipynb#scrollTo=3SDhbo8lOBQv\n",
    "\n",
    "import os\n",
    "import tensorflow as tf\n",
    "import numpy as np\n",
    "import matplotlib.pyplot as plt\n",
    "import pathlib\n",
    "\n",
    "import tempfile\n",
    "model_dir = tempfile.mkdtemp()"
   ]
  },
  {
   "cell_type": "code",
   "execution_count": 2,
   "metadata": {},
   "outputs": [],
   "source": [
    "data_dir = pathlib.Path(\"./data/dogs-vs-cats/\")"
   ]
  },
  {
   "cell_type": "code",
   "execution_count": 3,
   "metadata": {},
   "outputs": [],
   "source": [
    "image_count = len(list(data_dir.glob('*/*.jpg')))"
   ]
  },
  {
   "cell_type": "code",
   "execution_count": 4,
   "metadata": {},
   "outputs": [],
   "source": [
    "SEED = 0\n",
    "BATCH_SIZE = 128\n",
    "BUFFER_SIZE=200\n",
    "IMG_HEIGHT = 224\n",
    "IMG_WIDTH = 224\n",
    "STEPS_PER_EPOCH = image_count//BATCH_SIZE\n",
    "CLASS_NAMES = np.array([\"cat\", \"dog\"])\n",
    "\n",
    "tf.random.set_seed(SEED)"
   ]
  },
  {
   "cell_type": "code",
   "execution_count": 5,
   "metadata": {},
   "outputs": [],
   "source": [
    "def get_label(path):\n",
    "    s_path = tf.strings.split(path, os.path.sep)[-1]\n",
    "    label = tf.strings.split(s_path, \".\")[0]\n",
    "    if label == \"cat\":\n",
    "        return 0\n",
    "    else:\n",
    "        return 1\n",
    "\n",
    "def decode_img(img):\n",
    "  # convert the compressed string to a 3D uint8 tensor\n",
    "  img = tf.image.decode_jpeg(img, channels=3)\n",
    "  # Use `convert_image_dtype` to convert to floats in the [0,1] range.\n",
    "  img = tf.image.convert_image_dtype(img, tf.float32)\n",
    "  # resize the image to the desired size.\n",
    "  return tf.image.resize(img, [IMG_WIDTH, IMG_HEIGHT])\n",
    "\n",
    "def process_path(path):\n",
    "    label = get_label(path)\n",
    "    img = tf.io.read_file(path)\n",
    "    img = decode_img(img)\n",
    "    return img, label\n",
    "\n",
    "def scale_image(image, label):\n",
    "    image = tf.image.per_image_standardization(image)\n",
    "    return image, label"
   ]
  },
  {
   "cell_type": "code",
   "execution_count": 6,
   "metadata": {},
   "outputs": [
    {
     "name": "stderr",
     "output_type": "stream",
     "text": [
      "WARNING: Logging before flag parsing goes to stderr.\n",
      "W0422 22:13:56.054414 140735545316224 deprecation.py:323] From /usr/local/lib/python3.7/site-packages/tensorflow_core/python/ops/image_ops_impl.py:1518: div (from tensorflow.python.ops.math_ops) is deprecated and will be removed in a future version.\n",
      "Instructions for updating:\n",
      "Deprecated in favor of operator or tf.math.divide.\n"
     ]
    },
    {
     "name": "stdout",
     "output_type": "stream",
     "text": [
      "Image shape:  (128, 224, 224, 3)\n",
      "Label:  (128,)\n",
      "Image shape:  (128, 224, 224, 3)\n",
      "Label:  (128,)\n",
      "Image shape:  (128, 224, 224, 3)\n",
      "Label:  (128,)\n",
      "Image shape:  (128, 224, 224, 3)\n",
      "Label:  (128,)\n",
      "Image shape:  (128, 224, 224, 3)\n",
      "Label:  (128,)\n"
     ]
    }
   ],
   "source": [
    "def input_fn():\n",
    "    list_ds = tf.data.Dataset.list_files(str(data_dir/'*/*'))\n",
    "    \n",
    "    return list_ds \\\n",
    "        .map(process_path, num_parallel_calls=tf.data.experimental.AUTOTUNE) \\\n",
    "        .map(scale_image) \\\n",
    "        .shuffle(BUFFER_SIZE) \\\n",
    "        .batch(BATCH_SIZE) \\\n",
    "        .prefetch(buffer_size=tf.data.experimental.AUTOTUNE) \\\n",
    "        .repeat()\n",
    "\n",
    "for image, label in input_fn().take(5):\n",
    "    print(\"Image shape: \", image.numpy().shape)\n",
    "    print(\"Label: \", label.shape)"
   ]
  },
  {
   "cell_type": "code",
   "execution_count": 7,
   "metadata": {},
   "outputs": [],
   "source": [
    "train_ds = input_fn()"
   ]
  },
  {
   "cell_type": "code",
   "execution_count": 8,
   "metadata": {},
   "outputs": [],
   "source": [
    "def model_fn():\n",
    "    model = tf.keras.Sequential([\n",
    "        tf.keras.layers.Conv2D(32, 3, activation='relu', input_shape=(IMG_HEIGHT, IMG_WIDTH, 3)),\n",
    "        tf.keras.layers.MaxPooling2D(),\n",
    "        tf.keras.layers.Flatten(),\n",
    "        tf.keras.layers.Dense(64, activation='relu'),\n",
    "        tf.keras.layers.Dense(1)\n",
    "    ])\n",
    "\n",
    "    model.compile(optimizer='adam',\n",
    "                  loss=tf.losses.BinaryCrossentropy(from_logits=True), \n",
    "                  metrics=[\"accuracy\"])\n",
    "    \n",
    "    return model"
   ]
  },
  {
   "cell_type": "code",
   "execution_count": 9,
   "metadata": {},
   "outputs": [
    {
     "name": "stdout",
     "output_type": "stream",
     "text": [
      "Model: \"sequential\"\n",
      "_________________________________________________________________\n",
      "Layer (type)                 Output Shape              Param #   \n",
      "=================================================================\n",
      "conv2d (Conv2D)              (None, 222, 222, 32)      896       \n",
      "_________________________________________________________________\n",
      "max_pooling2d (MaxPooling2D) (None, 111, 111, 32)      0         \n",
      "_________________________________________________________________\n",
      "flatten (Flatten)            (None, 394272)            0         \n",
      "_________________________________________________________________\n",
      "dense (Dense)                (None, 64)                25233472  \n",
      "_________________________________________________________________\n",
      "dense_1 (Dense)              (None, 1)                 65        \n",
      "=================================================================\n",
      "Total params: 25,234,433\n",
      "Trainable params: 25,234,433\n",
      "Non-trainable params: 0\n",
      "_________________________________________________________________\n"
     ]
    }
   ],
   "source": [
    "model = model_fn()\n",
    "model.summary()"
   ]
  },
  {
   "cell_type": "code",
   "execution_count": 10,
   "metadata": {},
   "outputs": [
    {
     "name": "stdout",
     "output_type": "stream",
     "text": [
      "Train for 195 steps\n",
      "Epoch 1/10\n",
      "195/195 [==============================] - 313s 2s/step - loss: 1.8836 - accuracy: 0.6518\n",
      "Epoch 2/10\n",
      "195/195 [==============================] - 315s 2s/step - loss: 0.5021 - accuracy: 0.7420\n",
      "Epoch 3/10\n",
      "195/195 [==============================] - 320s 2s/step - loss: 0.4185 - accuracy: 0.7927\n",
      "Epoch 4/10\n",
      "195/195 [==============================] - 335s 2s/step - loss: 0.3452 - accuracy: 0.8375\n",
      "Epoch 5/10\n",
      "195/195 [==============================] - 309s 2s/step - loss: 0.2988 - accuracy: 0.8632\n",
      "Epoch 6/10\n",
      "195/195 [==============================] - 895s 5s/step - loss: 0.2474 - accuracy: 0.8901\n",
      "Epoch 7/10\n",
      "195/195 [==============================] - 359s 2s/step - loss: 0.2067 - accuracy: 0.9125\n",
      "Epoch 8/10\n",
      "195/195 [==============================] - 387s 2s/step - loss: 0.1738 - accuracy: 0.9289\n",
      "Epoch 9/10\n",
      "195/195 [==============================] - 381s 2s/step - loss: 0.1264 - accuracy: 0.9532\n",
      "Epoch 10/10\n",
      "195/195 [==============================] - 421s 2s/step - loss: 0.1007 - accuracy: 0.9634\n"
     ]
    }
   ],
   "source": [
    "history = model.fit(train_ds, epochs = 10, steps_per_epoch = STEPS_PER_EPOCH)"
   ]
  },
  {
   "cell_type": "code",
   "execution_count": 11,
   "metadata": {},
   "outputs": [],
   "source": [
    "acc = history.history['accuracy']\n",
    "loss=history.history['loss']"
   ]
  },
  {
   "cell_type": "code",
   "execution_count": 12,
   "metadata": {},
   "outputs": [
    {
     "data": {
      "image/png": "[encoded data removed]",
      "text/plain": [
       "<Figure size 432x288 with 1 Axes>"
      ]
     },
     "metadata": {
      "needs_background": "light"
     },
     "output_type": "display_data"
    }
   ],
   "source": [
    "epochs_range = range(10)\n",
    "# plt.subplot(1, 2, 2)\n",
    "plt.plot(epochs_range, loss, label='Training Loss')\n",
    "plt.legend(loc='upper right')\n",
    "plt.title('Training and Validation Loss')\n",
    "plt.show()"
   ]
  },
  {
   "cell_type": "code",
   "execution_count": null,
   "metadata": {},
   "outputs": [],
   "source": [
    "model.evaluate()"
   ]
  },
  {
   "cell_type": "code",
   "execution_count": null,
   "metadata": {},
   "outputs": [],
   "source": []
  },
  {
   "cell_type": "code",
   "execution_count": null,
   "metadata": {},
   "outputs": [],
   "source": []
  }
 ],
 "metadata": {
  "kernelspec": {
   "display_name": "Python 3",
   "language": "python",
   "name": "python3"
  },
  "language_info": {
   "codemirror_mode": {
    "name": "ipython",
    "version": 3
   },
   "file_extension": ".py",
   "mimetype": "text/x-python",
   "name": "python",
   "nbconvert_exporter": "python",
   "pygments_lexer": "ipython3",
   "version": "3.7.7"
  }
 },
 "nbformat": 4,
 "nbformat_minor": 2
}
