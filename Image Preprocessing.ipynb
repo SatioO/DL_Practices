{
 "cells": [
  {
   "cell_type": "code",
   "execution_count": 24,
   "metadata": {},
   "outputs": [],
   "source": [
    "# https://colab.research.google.com/github/tensorflow/docs/blob/master/site/en/tutorials/load_data/images.ipynb#scrollTo=3SDhbo8lOBQv\n",
    "\n",
    "import os\n",
    "import tensorflow as tf\n",
    "import numpy as np\n",
    "import matplotlib.pyplot as plt\n",
    "import pathlib"
   ]
  },
  {
   "cell_type": "code",
   "execution_count": 25,
   "metadata": {},
   "outputs": [],
   "source": [
    "data_dir = pathlib.Path(\"./data/dogs-vs-cats/\")"
   ]
  },
  {
   "cell_type": "code",
   "execution_count": 26,
   "metadata": {},
   "outputs": [],
   "source": [
    "image_count = len(list(data_dir.glob('*/*.jpg')))"
   ]
  },
  {
   "cell_type": "code",
   "execution_count": 31,
   "metadata": {},
   "outputs": [],
   "source": [
    "SEED = 0\n",
    "BATCH_SIZE = 128\n",
    "BUFFER_SIZE=200\n",
    "IMG_HEIGHT = 224\n",
    "IMG_WIDTH = 224\n",
    "STEPS_PER_EPOCH = image_count//BATCH_SIZE\n",
    "CLASS_NAMES = np.array([\"cat\", \"dog\"])\n",
    "\n",
    "tf.random.set_seed(SEED)"
   ]
  },
  {
   "cell_type": "code",
   "execution_count": 32,
   "metadata": {},
   "outputs": [],
   "source": [
    "def get_label(path):\n",
    "    s_path = tf.strings.split(path, os.path.sep)[-1]\n",
    "    label = tf.strings.split(s_path, \".\")[0]\n",
    "    if label == \"cat\":\n",
    "        return 0\n",
    "    else:\n",
    "        return 1\n",
    "\n",
    "def decode_img(img):\n",
    "  # convert the compressed string to a 3D uint8 tensor\n",
    "  img = tf.image.decode_jpeg(img, channels=3)\n",
    "  # Use `convert_image_dtype` to convert to floats in the [0,1] range.\n",
    "  img = tf.image.convert_image_dtype(img, tf.float32)\n",
    "  # resize the image to the desired size.\n",
    "  return tf.image.resize(img, [IMG_WIDTH, IMG_HEIGHT])\n",
    "\n",
    "def process_path(path):\n",
    "    label = get_label(path)\n",
    "    img = tf.io.read_file(path)\n",
    "    img = decode_img(img)\n",
    "    return img, label\n",
    "\n",
    "def scale_image(image, label):\n",
    "    image /= 255\n",
    "    return image, label"
   ]
  },
  {
   "cell_type": "code",
   "execution_count": 34,
   "metadata": {},
   "outputs": [
    {
     "name": "stdout",
     "output_type": "stream",
     "text": [
      "Image shape:  (128, 224, 224, 3)\n",
      "Label:  (128,)\n",
      "Image shape:  (128, 224, 224, 3)\n",
      "Label:  (128,)\n",
      "Image shape:  (128, 224, 224, 3)\n",
      "Label:  (128,)\n",
      "Image shape:  (128, 224, 224, 3)\n",
      "Label:  (128,)\n",
      "Image shape:  (128, 224, 224, 3)\n",
      "Label:  (128,)\n"
     ]
    }
   ],
   "source": [
    "def input_fn():\n",
    "    list_ds = tf.data.Dataset.list_files(str(data_dir/'*/*'))\n",
    "    \n",
    "    return list_ds \\\n",
    "        .map(process_path, num_parallel_calls=tf.data.experimental.AUTOTUNE) \\\n",
    "        .map(scale_image) \\\n",
    "        .shuffle(BUFFER_SIZE) \\\n",
    "        .batch(BATCH_SIZE) \\\n",
    "        .prefetch(buffer_size=tf.data.experimental.AUTOTUNE) \\\n",
    "        .repeat()\n",
    "\n",
    "for image, label in input_fn().take(5):\n",
    "    print(\"Image shape: \", image.numpy().shape)\n",
    "    print(\"Label: \", label.shape)"
   ]
  },
  {
   "cell_type": "code",
   "execution_count": null,
   "metadata": {},
   "outputs": [],
   "source": [
    "train_ds = input_fn()"
   ]
  },
  {
   "cell_type": "code",
   "execution_count": 17,
   "metadata": {},
   "outputs": [],
   "source": [
    "model = tf.keras.Sequential([\n",
    "    tf.keras.layers.Conv2D(32, 3, activation='relu', input_shape=(IMG_HEIGHT, IMG_WIDTH, 3)),\n",
    "    tf.keras.layers.MaxPooling2D(),\n",
    "    tf.keras.layers.Flatten(),\n",
    "    tf.keras.layers.Dense(64, activation='relu'),\n",
    "    tf.keras.layers.Dense(1)\n",
    "])"
   ]
  },
  {
   "cell_type": "code",
   "execution_count": 18,
   "metadata": {},
   "outputs": [],
   "source": [
    "model.compile(optimizer='adam',\n",
    "              loss=tf.losses.BinaryCrossentropy(from_logits=True), \n",
    "              metrics=[\"accuracy\"])"
   ]
  },
  {
   "cell_type": "code",
   "execution_count": 19,
   "metadata": {},
   "outputs": [
    {
     "name": "stdout",
     "output_type": "stream",
     "text": [
      "Model: \"sequential_1\"\n",
      "_________________________________________________________________\n",
      "Layer (type)                 Output Shape              Param #   \n",
      "=================================================================\n",
      "conv2d_1 (Conv2D)            (None, 222, 222, 32)      896       \n",
      "_________________________________________________________________\n",
      "max_pooling2d_1 (MaxPooling2 (None, 111, 111, 32)      0         \n",
      "_________________________________________________________________\n",
      "flatten_1 (Flatten)          (None, 394272)            0         \n",
      "_________________________________________________________________\n",
      "dense_2 (Dense)              (None, 64)                25233472  \n",
      "_________________________________________________________________\n",
      "dense_3 (Dense)              (None, 1)                 65        \n",
      "=================================================================\n",
      "Total params: 25,234,433\n",
      "Trainable params: 25,234,433\n",
      "Non-trainable params: 0\n",
      "_________________________________________________________________\n"
     ]
    }
   ],
   "source": [
    "model.summary()"
   ]
  },
  {
   "cell_type": "code",
   "execution_count": 20,
   "metadata": {},
   "outputs": [
    {
     "name": "stdout",
     "output_type": "stream",
     "text": [
      "Train for 19.5 steps\n",
      "Epoch 1/10\n",
      "20/19 [==============================] - 31s 2s/step - loss: 0.6952 - accuracy: 0.5184\n",
      "Epoch 2/10\n",
      "20/19 [==============================] - 29s 1s/step - loss: 0.6935 - accuracy: 0.4828\n",
      "Epoch 3/10\n",
      "20/19 [==============================] - 30s 2s/step - loss: 0.6930 - accuracy: 0.5004\n",
      "Epoch 4/10\n",
      "20/19 [==============================] - 31s 2s/step - loss: 0.6929 - accuracy: 0.5016\n",
      "Epoch 5/10\n",
      "20/19 [==============================] - 31s 2s/step - loss: 0.6925 - accuracy: 0.4965\n",
      "Epoch 6/10\n",
      "20/19 [==============================] - 31s 2s/step - loss: 0.6921 - accuracy: 0.5000\n",
      "Epoch 7/10\n",
      "20/19 [==============================] - 30s 2s/step - loss: 0.6903 - accuracy: 0.5020\n",
      "Epoch 8/10\n",
      "20/19 [==============================] - 30s 2s/step - loss: 0.6879 - accuracy: 0.4887\n",
      "Epoch 9/10\n",
      "20/19 [==============================] - 31s 2s/step - loss: 0.6868 - accuracy: 0.5094\n",
      "Epoch 10/10\n",
      "20/19 [==============================] - 30s 1s/step - loss: 0.6842 - accuracy: 0.4982\n"
     ]
    }
   ],
   "source": [
    "history = model.fit(train_ds,  epochs = 10, steps_per_epoch = STEPS_PER_EPOCH / 10)"
   ]
  },
  {
   "cell_type": "code",
   "execution_count": 21,
   "metadata": {},
   "outputs": [],
   "source": [
    "acc = history.history['accuracy']\n",
    "loss=history.history['loss']"
   ]
  },
  {
   "cell_type": "code",
   "execution_count": 23,
   "metadata": {},
   "outputs": [
    {
     "data": {
      "image/png": "[encoded data removed]",
      "text/plain": [
       "<Figure size 432x288 with 1 Axes>"
      ]
     },
     "metadata": {
      "needs_background": "light"
     },
     "output_type": "display_data"
    }
   ],
   "source": [
    "epochs_range = range(10)\n",
    "plt.subplot(1, 2, 2)\n",
    "plt.plot(epochs_range, acc, label='Training Loss')\n",
    "plt.legend(loc='upper right')\n",
    "plt.title('Training and Validation Loss')\n",
    "plt.show()"
   ]
  },
  {
   "cell_type": "code",
   "execution_count": null,
   "metadata": {},
   "outputs": [],
   "source": []
  },
  {
   "cell_type": "code",
   "execution_count": null,
   "metadata": {},
   "outputs": [],
   "source": []
  },
  {
   "cell_type": "code",
   "execution_count": null,
   "metadata": {},
   "outputs": [],
   "source": []
  }
 ],
 "metadata": {
  "kernelspec": {
   "display_name": "Python 3",
   "language": "python",
   "name": "python3"
  },
  "language_info": {
   "codemirror_mode": {
    "name": "ipython",
    "version": 3
   },
   "file_extension": ".py",
   "mimetype": "text/x-python",
   "name": "python",
   "nbconvert_exporter": "python",
   "pygments_lexer": "ipython3",
   "version": "3.7.7"
  }
 },
 "nbformat": 4,
 "nbformat_minor": 2
}
