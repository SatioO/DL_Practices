{
 "cells": [
  {
   "cell_type": "code",
   "execution_count": 82,
   "metadata": {},
   "outputs": [],
   "source": [
    "import numpy as np\n",
    "import h5py"
   ]
  },
  {
   "cell_type": "code",
   "execution_count": 83,
   "metadata": {},
   "outputs": [],
   "source": [
    "train_path = \"./data/cat-vs-noncat/train_catvnoncat.h5\"\n",
    "test_path = \"./data/cat-vs-noncat/test_catvnoncat.h5\""
   ]
  },
  {
   "cell_type": "code",
   "execution_count": 84,
   "metadata": {},
   "outputs": [],
   "source": [
    "train_x_orig = np.array(h5py.File(train_path)['train_set_x'])\n",
    "train_y = np.array(h5py.File(train_path)['train_set_y'])\n",
    "\n",
    "test_x_orig = np.array(h5py.File(test_path)['test_set_x'])\n",
    "test_y = np.array(h5py.File(test_path)['test_set_y'])\n",
    "\n",
    "train_y = train_y.reshape((1, train_y.shape[0]))\n",
    "test_y = test_y.reshape((1, test_y.shape[0]))"
   ]
  },
  {
   "cell_type": "code",
   "execution_count": 85,
   "metadata": {},
   "outputs": [
    {
     "name": "stdout",
     "output_type": "stream",
     "text": [
      "TrainX: (209, 64, 64, 3)\n",
      "TrainY: (1, 209)\n",
      "TestX: (50, 64, 64, 3)\n",
      "TestY: (1, 50)\n"
     ]
    }
   ],
   "source": [
    "print(f\"TrainX: {train_x_orig.shape}\")\n",
    "print(f\"TrainY: {train_y_orig.shape}\")\n",
    "\n",
    "print(f\"TestX: {test_x_orig.shape}\")\n",
    "print(f\"TestY: {test_y_orig.shape}\")"
   ]
  },
  {
   "cell_type": "code",
   "execution_count": 86,
   "metadata": {},
   "outputs": [],
   "source": [
    "train_x_flat = train_x_orig.reshape((train_x_orig.shape[0], -1)).T\n",
    "test_x_flat = test_x_orig.reshape((test_x_orig.shape[0], -1)).T"
   ]
  },
  {
   "cell_type": "code",
   "execution_count": 87,
   "metadata": {},
   "outputs": [],
   "source": [
    "train_x = train_x_flat / 255\n",
    "test_x = test_x_flat / 255"
   ]
  },
  {
   "cell_type": "code",
   "execution_count": 88,
   "metadata": {},
   "outputs": [
    {
     "data": {
      "text/plain": [
       "((12288, 209), (12288, 50), (1, 209), (1, 50))"
      ]
     },
     "execution_count": 88,
     "metadata": {},
     "output_type": "execute_result"
    }
   ],
   "source": [
    "train_x.shape, test_x.shape, train_y.shape, test_y.shape"
   ]
  },
  {
   "cell_type": "code",
   "execution_count": 89,
   "metadata": {},
   "outputs": [],
   "source": [
    "def sigmoid(z):\n",
    "    return 1 / (1 + np.exp(-z))"
   ]
  },
  {
   "cell_type": "code",
   "execution_count": 90,
   "metadata": {},
   "outputs": [],
   "source": [
    "def layer_size(X, Y):\n",
    "    n_x = X.shape[0]\n",
    "    n_h = 100\n",
    "    n_y = Y.shape[0]\n",
    "    return (n_x, n_h, n_y)"
   ]
  },
  {
   "cell_type": "code",
   "execution_count": 91,
   "metadata": {},
   "outputs": [
    {
     "name": "stdout",
     "output_type": "stream",
     "text": [
      "Input: 12288, Hidden: 100, Output: 1\n"
     ]
    }
   ],
   "source": [
    "n_x, n_h, n_y = layer_size(train_x, train_y)\n",
    "print(f\"Input: {n_x}, Hidden: {n_h}, Output: {n_y}\")"
   ]
  },
  {
   "cell_type": "code",
   "execution_count": 92,
   "metadata": {},
   "outputs": [],
   "source": [
    "def initialize_parameters(n_x, n_h, n_y):\n",
    "    W1 = np.random.randn(n_h, n_x) * 0.01\n",
    "    b1 = np.zeros((n_h, 1))\n",
    "    W2 = np.random.randn(n_y, n_h) * 0.01\n",
    "    b2 = np.zeros((n_y, 1))\n",
    "    \n",
    "    parameters = {\"W1\": W1,\n",
    "                  \"b1\": b1,\n",
    "                  \"W2\": W2,\n",
    "                  \"b2\": b2}\n",
    "    \n",
    "    return parameters"
   ]
  },
  {
   "cell_type": "code",
   "execution_count": 93,
   "metadata": {},
   "outputs": [],
   "source": [
    "parameters = initialize_parameters(n_x, n_h, n_y)"
   ]
  },
  {
   "cell_type": "code",
   "execution_count": 94,
   "metadata": {},
   "outputs": [],
   "source": [
    "def forward_propagation(X, parameters):\n",
    "    Z1 = np.dot(parameters[\"W1\"], X) + b1\n",
    "    A1 = np.tanh(Z1)\n",
    "    Z2 = np.dot(parameters[\"W2\"], A1) + b2\n",
    "    A2 = sigmoid(Z2)\n",
    "    \n",
    "    cache = {\"Z1\": Z1,\n",
    "             \"A1\": A1,\n",
    "             \"Z2\": Z2,\n",
    "             \"A2\": A2}\n",
    "    \n",
    "    return A2, cache"
   ]
  },
  {
   "cell_type": "code",
   "execution_count": null,
   "metadata": {},
   "outputs": [],
   "source": []
  }
 ],
 "metadata": {
  "kernelspec": {
   "display_name": "Python 3",
   "language": "python",
   "name": "python3"
  },
  "language_info": {
   "codemirror_mode": {
    "name": "ipython",
    "version": 3
   },
   "file_extension": ".py",
   "mimetype": "text/x-python",
   "name": "python",
   "nbconvert_exporter": "python",
   "pygments_lexer": "ipython3",
   "version": "3.7.7"
  }
 },
 "nbformat": 4,
 "nbformat_minor": 2
}
