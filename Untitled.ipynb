{
 "cells": [
  {
   "cell_type": "code",
   "execution_count": 99,
   "metadata": {},
   "outputs": [],
   "source": [
    "import numpy as np\n",
    "import matplotlib.pyplot as plt"
   ]
  },
  {
   "cell_type": "code",
   "execution_count": 100,
   "metadata": {},
   "outputs": [],
   "source": [
    "def sigmoid(z):\n",
    "    return 1 / (1 + np.exp(-z)) # If z is big, exp is small and that forces sigmoid to be close to one"
   ]
  },
  {
   "cell_type": "code",
   "execution_count": 101,
   "metadata": {},
   "outputs": [],
   "source": [
    "x = np.array([[2, 4, 6], [3, 5, 7], [12, 14, 16], [8, 10, 12], [9, 11, 13], [13, 15, 17]])\n",
    "y = np.array([1, 0, 1, 1, 0, 0])"
   ]
  },
  {
   "cell_type": "code",
   "execution_count": 102,
   "metadata": {},
   "outputs": [],
   "source": [
    "xs = x.reshape(x.shape[0], -1).T\n",
    "ys = y.reshape(y.shape[0], -1).T"
   ]
  },
  {
   "cell_type": "code",
   "execution_count": 103,
   "metadata": {},
   "outputs": [],
   "source": [
    "w = np.zeros((xs.shape[0], 1))\n",
    "b = 0\n",
    "m = xs.shape[0]"
   ]
  },
  {
   "cell_type": "code",
   "execution_count": 104,
   "metadata": {},
   "outputs": [],
   "source": [
    "def propogate(xs, ys, w, b):\n",
    "    # forward pass \n",
    "    y_hat = sigmoid(np.dot(w.T, xs) + b)\n",
    "    \n",
    "    # binary cross entropy loss\n",
    "    J = - (1 / m) * np.sum((ys * np.log(y_hat)) + ((1 - ys) * np.log(1 - y_hat)))\n",
    "    \n",
    "    # backword pass\n",
    "    dw = (1 / m) * np.dot(xs, (y_hat - ys).T)\n",
    "    print(y_hat.shape, ys.shape)\n",
    "    db = (1 / m) * np.sum(y_hat - ys)\n",
    "    \n",
    "    grads = {\n",
    "        \"dw\": dw,\n",
    "        \"db\": db\n",
    "    }\n",
    "    \n",
    "    return grads"
   ]
  },
  {
   "cell_type": "code",
   "execution_count": 105,
   "metadata": {},
   "outputs": [
    {
     "name": "stdout",
     "output_type": "stream",
     "text": [
      "(1, 6) (1, 6)\n"
     ]
    }
   ],
   "source": [
    "grads = propogate(xs, ys, w, b)"
   ]
  },
  {
   "cell_type": "code",
   "execution_count": null,
   "metadata": {},
   "outputs": [],
   "source": []
  },
  {
   "cell_type": "code",
   "execution_count": null,
   "metadata": {},
   "outputs": [],
   "source": []
  }
 ],
 "metadata": {
  "kernelspec": {
   "display_name": "Python 3",
   "language": "python",
   "name": "python3"
  },
  "language_info": {
   "codemirror_mode": {
    "name": "ipython",
    "version": 3
   },
   "file_extension": ".py",
   "mimetype": "text/x-python",
   "name": "python",
   "nbconvert_exporter": "python",
   "pygments_lexer": "ipython3",
   "version": "3.7.7"
  }
 },
 "nbformat": 4,
 "nbformat_minor": 2
}
