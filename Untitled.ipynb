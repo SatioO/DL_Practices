{
 "cells": [
  {
   "cell_type": "code",
   "execution_count": 165,
   "metadata": {},
   "outputs": [],
   "source": [
    "import numpy as np\n",
    "import matplotlib.pyplot as plt"
   ]
  },
  {
   "cell_type": "code",
   "execution_count": 166,
   "metadata": {},
   "outputs": [],
   "source": [
    "def sigmoid(z):\n",
    "    return 1 / (1 + np.exp(-z)) # If z is big, exp is small and that forces sigmoid to be close to one"
   ]
  },
  {
   "cell_type": "code",
   "execution_count": 167,
   "metadata": {},
   "outputs": [],
   "source": [
    "x = np.array([[2, 4, 6], [3, 5, 7], [12, 14, 16], [8, 10, 12], [9, 11, 13], [13, 15, 17]])\n",
    "y = np.array([1, 0, 1, 1, 0, 0])"
   ]
  },
  {
   "cell_type": "code",
   "execution_count": 168,
   "metadata": {},
   "outputs": [],
   "source": [
    "xs = x.reshape(x.shape[0], -1).T\n",
    "ys = y.reshape(y.shape[0], -1).T"
   ]
  },
  {
   "cell_type": "code",
   "execution_count": 169,
   "metadata": {},
   "outputs": [],
   "source": [
    "w = np.zeros((xs.shape[0], 1))\n",
    "b = 0\n",
    "m = xs.shape[0]"
   ]
  },
  {
   "cell_type": "code",
   "execution_count": 170,
   "metadata": {},
   "outputs": [],
   "source": [
    "def propogate(xs, ys, w, b):\n",
    "    # forward pass \n",
    "    y_hat = sigmoid(np.dot(w.T, xs) + b)\n",
    "    \n",
    "    # binary cross entropy loss\n",
    "    J = - (1 / m) * np.sum((ys * np.log(y_hat)) + ((1 - ys) * np.log(1 - y_hat)))\n",
    "    \n",
    "    # backword pass\n",
    "    dw = (1 / m) * np.dot(xs, (y_hat - ys).T)\n",
    "    db = (1 / m) * np.sum(y_hat - ys)\n",
    "    \n",
    "    grads = {\n",
    "        \"dw\": dw,\n",
    "        \"db\": db\n",
    "    }\n",
    "    \n",
    "    return grads, J"
   ]
  },
  {
   "cell_type": "code",
   "execution_count": 177,
   "metadata": {},
   "outputs": [],
   "source": [
    "costs = []\n",
    "\n",
    "def optimize(xs, ys, w, b, num_iters, learning_rate, print_cost = False):\n",
    "    for i in range(num_iters):\n",
    "        # cost and gradient calculation\n",
    "        grads, cost = propogate(xs, ys, w, b)\n",
    "        \n",
    "        # Retrieve derivatives from grads\n",
    "        dw = grads[\"dw\"]\n",
    "        db = grads[\"db\"]\n",
    "        \n",
    "        # Update rule\n",
    "        w = w - learning_rate * dw\n",
    "        b = b - learning_rate * db\n",
    "        \n",
    "        # Record the costs\n",
    "        if i % 100 == 0:\n",
    "            costs.append(cost)\n",
    "        \n",
    "        # Print the cost every 100 training iterations\n",
    "        if print_cost and i % 100 == 0:\n",
    "            print (\"Cost after iteration %i: %f\" %(i, cost))\n",
    "            \n",
    "    params = {\"w\": w,\n",
    "              \"b\": b}\n",
    "    \n",
    "    grads = {\"dw\": dw,\n",
    "             \"db\": db}\n",
    "    \n",
    "    return params, grads, costs"
   ]
  },
  {
   "cell_type": "code",
   "execution_count": 178,
   "metadata": {},
   "outputs": [
    {
     "data": {
      "text/plain": [
       "({'w': array([[-0.14660051],\n",
       "         [-0.01942106],\n",
       "         [ 0.10775839]]), 'b': 0.06358972374944906},\n",
       " {'dw': array([[ 0.0009926 ],\n",
       "         [ 0.00011427],\n",
       "         [-0.00076405]]), 'db': -0.0004391616633645142},\n",
       " [1.3862943611198904,\n",
       "  1.3766287102438466,\n",
       "  1.373635486067721,\n",
       "  1.3724456902003732,\n",
       "  1.3719706537169583,\n",
       "  1.3717803421691404,\n",
       "  1.3717039149305421,\n",
       "  1.371673172715829,\n",
       "  1.3716607937248455,\n",
       "  1.371655805616582])"
      ]
     },
     "execution_count": 178,
     "metadata": {},
     "output_type": "execute_result"
    }
   ],
   "source": [
    "optimize(xs, ys, w, b, 1000, 0.007)"
   ]
  },
  {
   "cell_type": "code",
   "execution_count": null,
   "metadata": {},
   "outputs": [],
   "source": []
  }
 ],
 "metadata": {
  "kernelspec": {
   "display_name": "Python 3",
   "language": "python",
   "name": "python3"
  },
  "language_info": {
   "codemirror_mode": {
    "name": "ipython",
    "version": 3
   },
   "file_extension": ".py",
   "mimetype": "text/x-python",
   "name": "python",
   "nbconvert_exporter": "python",
   "pygments_lexer": "ipython3",
   "version": "3.7.7"
  }
 },
 "nbformat": 4,
 "nbformat_minor": 2
}
